{
 "cells": [
  {
   "cell_type": "code",
   "execution_count": 3,
   "id": "7869d510",
   "metadata": {},
   "outputs": [],
   "source": [
    "import pandas as pd\n",
    "import numpy as np\n",
    "import matplotlib.pyplot as plt\n"
   ]
  },
  {
   "cell_type": "code",
   "execution_count": 4,
   "id": "6312dbd0",
   "metadata": {},
   "outputs": [],
   "source": [
    "df = pd.read_csv(\"F:\\PYTHAN\\PYTHAN\\iNeuron\\EDA\\PCA\\Data_set\\winequalityN - winequalityN.csv\")"
   ]
  },
  {
   "cell_type": "code",
   "execution_count": 5,
   "id": "7f6e21b9",
   "metadata": {},
   "outputs": [
    {
     "data": {
      "text/html": [
       "<div>\n",
       "<style scoped>\n",
       "    .dataframe tbody tr th:only-of-type {\n",
       "        vertical-align: middle;\n",
       "    }\n",
       "\n",
       "    .dataframe tbody tr th {\n",
       "        vertical-align: top;\n",
       "    }\n",
       "\n",
       "    .dataframe thead th {\n",
       "        text-align: right;\n",
       "    }\n",
       "</style>\n",
       "<table border=\"1\" class=\"dataframe\">\n",
       "  <thead>\n",
       "    <tr style=\"text-align: right;\">\n",
       "      <th></th>\n",
       "      <th>type</th>\n",
       "      <th>fixed acidity</th>\n",
       "      <th>volatile acidity</th>\n",
       "      <th>citric acid</th>\n",
       "      <th>residual sugar</th>\n",
       "      <th>chlorides</th>\n",
       "      <th>free sulfur dioxide</th>\n",
       "      <th>total sulfur dioxide</th>\n",
       "      <th>density</th>\n",
       "      <th>pH</th>\n",
       "      <th>sulphates</th>\n",
       "      <th>alcohol</th>\n",
       "      <th>quality</th>\n",
       "    </tr>\n",
       "  </thead>\n",
       "  <tbody>\n",
       "    <tr>\n",
       "      <th>0</th>\n",
       "      <td>white</td>\n",
       "      <td>7.0</td>\n",
       "      <td>0.27</td>\n",
       "      <td>0.36</td>\n",
       "      <td>20.7</td>\n",
       "      <td>0.045</td>\n",
       "      <td>45.0</td>\n",
       "      <td>170.0</td>\n",
       "      <td>1.0010</td>\n",
       "      <td>3.00</td>\n",
       "      <td>0.45</td>\n",
       "      <td>8.8</td>\n",
       "      <td>6</td>\n",
       "    </tr>\n",
       "    <tr>\n",
       "      <th>1</th>\n",
       "      <td>white</td>\n",
       "      <td>6.3</td>\n",
       "      <td>0.30</td>\n",
       "      <td>0.34</td>\n",
       "      <td>1.6</td>\n",
       "      <td>0.049</td>\n",
       "      <td>14.0</td>\n",
       "      <td>132.0</td>\n",
       "      <td>0.9940</td>\n",
       "      <td>3.30</td>\n",
       "      <td>0.49</td>\n",
       "      <td>9.5</td>\n",
       "      <td>6</td>\n",
       "    </tr>\n",
       "    <tr>\n",
       "      <th>2</th>\n",
       "      <td>white</td>\n",
       "      <td>8.1</td>\n",
       "      <td>0.28</td>\n",
       "      <td>0.40</td>\n",
       "      <td>6.9</td>\n",
       "      <td>0.050</td>\n",
       "      <td>30.0</td>\n",
       "      <td>97.0</td>\n",
       "      <td>0.9951</td>\n",
       "      <td>3.26</td>\n",
       "      <td>0.44</td>\n",
       "      <td>10.1</td>\n",
       "      <td>6</td>\n",
       "    </tr>\n",
       "    <tr>\n",
       "      <th>3</th>\n",
       "      <td>white</td>\n",
       "      <td>7.2</td>\n",
       "      <td>0.23</td>\n",
       "      <td>0.32</td>\n",
       "      <td>8.5</td>\n",
       "      <td>0.058</td>\n",
       "      <td>47.0</td>\n",
       "      <td>186.0</td>\n",
       "      <td>0.9956</td>\n",
       "      <td>3.19</td>\n",
       "      <td>0.40</td>\n",
       "      <td>9.9</td>\n",
       "      <td>6</td>\n",
       "    </tr>\n",
       "    <tr>\n",
       "      <th>4</th>\n",
       "      <td>white</td>\n",
       "      <td>7.2</td>\n",
       "      <td>0.23</td>\n",
       "      <td>0.32</td>\n",
       "      <td>8.5</td>\n",
       "      <td>0.058</td>\n",
       "      <td>47.0</td>\n",
       "      <td>186.0</td>\n",
       "      <td>0.9956</td>\n",
       "      <td>3.19</td>\n",
       "      <td>0.40</td>\n",
       "      <td>9.9</td>\n",
       "      <td>6</td>\n",
       "    </tr>\n",
       "  </tbody>\n",
       "</table>\n",
       "</div>"
      ],
      "text/plain": [
       "    type  fixed acidity  volatile acidity  citric acid  residual sugar  \\\n",
       "0  white            7.0              0.27         0.36            20.7   \n",
       "1  white            6.3              0.30         0.34             1.6   \n",
       "2  white            8.1              0.28         0.40             6.9   \n",
       "3  white            7.2              0.23         0.32             8.5   \n",
       "4  white            7.2              0.23         0.32             8.5   \n",
       "\n",
       "   chlorides  free sulfur dioxide  total sulfur dioxide  density    pH  \\\n",
       "0      0.045                 45.0                 170.0   1.0010  3.00   \n",
       "1      0.049                 14.0                 132.0   0.9940  3.30   \n",
       "2      0.050                 30.0                  97.0   0.9951  3.26   \n",
       "3      0.058                 47.0                 186.0   0.9956  3.19   \n",
       "4      0.058                 47.0                 186.0   0.9956  3.19   \n",
       "\n",
       "   sulphates  alcohol  quality  \n",
       "0       0.45      8.8        6  \n",
       "1       0.49      9.5        6  \n",
       "2       0.44     10.1        6  \n",
       "3       0.40      9.9        6  \n",
       "4       0.40      9.9        6  "
      ]
     },
     "execution_count": 5,
     "metadata": {},
     "output_type": "execute_result"
    }
   ],
   "source": [
    "df.head()"
   ]
  },
  {
   "cell_type": "code",
   "execution_count": 6,
   "id": "f41fd02a",
   "metadata": {},
   "outputs": [
    {
     "data": {
      "text/plain": [
       "(6497, 13)"
      ]
     },
     "execution_count": 6,
     "metadata": {},
     "output_type": "execute_result"
    }
   ],
   "source": [
    "df.shape"
   ]
  },
  {
   "cell_type": "code",
   "execution_count": 8,
   "id": "3659ea2d",
   "metadata": {},
   "outputs": [
    {
     "data": {
      "text/plain": [
       "array(['white', 'red'], dtype=object)"
      ]
     },
     "execution_count": 8,
     "metadata": {},
     "output_type": "execute_result"
    }
   ],
   "source": [
    "df['type'].unique()"
   ]
  },
  {
   "cell_type": "code",
   "execution_count": 9,
   "id": "9f0c1694",
   "metadata": {},
   "outputs": [
    {
     "data": {
      "text/plain": [
       "array([6, 5, 7, 8, 4, 3, 9], dtype=int64)"
      ]
     },
     "execution_count": 9,
     "metadata": {},
     "output_type": "execute_result"
    }
   ],
   "source": [
    "df['quality'].unique()"
   ]
  },
  {
   "cell_type": "code",
   "execution_count": 12,
   "id": "b30e6a15",
   "metadata": {},
   "outputs": [
    {
     "data": {
      "text/plain": [
       "fixed acidity           10\n",
       "pH                       9\n",
       "volatile acidity         8\n",
       "sulphates                4\n",
       "citric acid              3\n",
       "residual sugar           2\n",
       "chlorides                2\n",
       "type                     0\n",
       "free sulfur dioxide      0\n",
       "total sulfur dioxide     0\n",
       "density                  0\n",
       "alcohol                  0\n",
       "quality                  0\n",
       "dtype: int64"
      ]
     },
     "execution_count": 12,
     "metadata": {},
     "output_type": "execute_result"
    }
   ],
   "source": [
    "df.isnull().sum().sort_values(ascending = False)"
   ]
  },
  {
   "cell_type": "code",
   "execution_count": 13,
   "id": "34ea11b2",
   "metadata": {},
   "outputs": [
    {
     "data": {
      "text/plain": [
       "1168"
      ]
     },
     "execution_count": 13,
     "metadata": {},
     "output_type": "execute_result"
    }
   ],
   "source": [
    "df.duplicated().sum()"
   ]
  },
  {
   "cell_type": "code",
   "execution_count": 17,
   "id": "d0b7c236",
   "metadata": {},
   "outputs": [],
   "source": [
    "df.drop_duplicates(inplace = True)"
   ]
  },
  {
   "cell_type": "code",
   "execution_count": 18,
   "id": "65f7c647",
   "metadata": {},
   "outputs": [
    {
     "data": {
      "text/plain": [
       "(5329, 13)"
      ]
     },
     "execution_count": 18,
     "metadata": {},
     "output_type": "execute_result"
    }
   ],
   "source": [
    "df.shape"
   ]
  },
  {
   "cell_type": "code",
   "execution_count": 20,
   "id": "e4951e60",
   "metadata": {},
   "outputs": [],
   "source": [
    "df.dropna(inplace=True)"
   ]
  },
  {
   "cell_type": "code",
   "execution_count": 21,
   "id": "d8d1c202",
   "metadata": {},
   "outputs": [
    {
     "data": {
      "text/plain": [
       "type                    0\n",
       "fixed acidity           0\n",
       "volatile acidity        0\n",
       "citric acid             0\n",
       "residual sugar          0\n",
       "chlorides               0\n",
       "free sulfur dioxide     0\n",
       "total sulfur dioxide    0\n",
       "density                 0\n",
       "pH                      0\n",
       "sulphates               0\n",
       "alcohol                 0\n",
       "quality                 0\n",
       "dtype: int64"
      ]
     },
     "execution_count": 21,
     "metadata": {},
     "output_type": "execute_result"
    }
   ],
   "source": [
    "df.isnull().sum().sort_values(ascending = False)"
   ]
  },
  {
   "cell_type": "code",
   "execution_count": 22,
   "id": "fd0bd6b6",
   "metadata": {},
   "outputs": [
    {
     "data": {
      "text/plain": [
       "(5295, 13)"
      ]
     },
     "execution_count": 22,
     "metadata": {},
     "output_type": "execute_result"
    }
   ],
   "source": [
    "df.shape"
   ]
  },
  {
   "cell_type": "code",
   "execution_count": 23,
   "id": "c3798f00",
   "metadata": {},
   "outputs": [],
   "source": [
    "import seaborn as sns"
   ]
  },
  {
   "cell_type": "code",
   "execution_count": 30,
   "id": "732aba6b",
   "metadata": {},
   "outputs": [
    {
     "data": {
      "image/png": "[encoded data removed]",
      "text/plain": [
       "<Figure size 432x288 with 1 Axes>"
      ]
     },
     "metadata": {
      "needs_background": "light"
     },
     "output_type": "display_data"
    }
   ],
   "source": [
    "sns.boxplot(x = df['volatile acidity'])\n",
    "plt.show()"
   ]
  },
  {
   "cell_type": "code",
   "execution_count": 34,
   "id": "53cae0cd",
   "metadata": {},
   "outputs": [],
   "source": [
    "from sklearn.model_selection import train_test_split\n",
    "from sklearn.preprocessing import StandardScaler\n",
    "from sklearn.decomposition import PCA\n",
    "from sklearn.neighbors import KNeighborsClassifier\n",
    "from sklearn.metrics import accuracy_score"
   ]
  },
  {
   "cell_type": "code",
   "execution_count": 28,
   "id": "cad38c18",
   "metadata": {},
   "outputs": [
    {
     "data": {
      "text/html": [
       "<div>\n",
       "<style scoped>\n",
       "    .dataframe tbody tr th:only-of-type {\n",
       "        vertical-align: middle;\n",
       "    }\n",
       "\n",
       "    .dataframe tbody tr th {\n",
       "        vertical-align: top;\n",
       "    }\n",
       "\n",
       "    .dataframe thead th {\n",
       "        text-align: right;\n",
       "    }\n",
       "</style>\n",
       "<table border=\"1\" class=\"dataframe\">\n",
       "  <thead>\n",
       "    <tr style=\"text-align: right;\">\n",
       "      <th></th>\n",
       "      <th>type</th>\n",
       "      <th>fixed acidity</th>\n",
       "      <th>volatile acidity</th>\n",
       "      <th>citric acid</th>\n",
       "      <th>residual sugar</th>\n",
       "      <th>chlorides</th>\n",
       "      <th>free sulfur dioxide</th>\n",
       "      <th>total sulfur dioxide</th>\n",
       "      <th>density</th>\n",
       "      <th>pH</th>\n",
       "      <th>sulphates</th>\n",
       "      <th>alcohol</th>\n",
       "      <th>quality</th>\n",
       "    </tr>\n",
       "  </thead>\n",
       "  <tbody>\n",
       "    <tr>\n",
       "      <th>0</th>\n",
       "      <td>white</td>\n",
       "      <td>7.0</td>\n",
       "      <td>0.27</td>\n",
       "      <td>0.36</td>\n",
       "      <td>20.7</td>\n",
       "      <td>0.045</td>\n",
       "      <td>45.0</td>\n",
       "      <td>170.0</td>\n",
       "      <td>1.0010</td>\n",
       "      <td>3.00</td>\n",
       "      <td>0.45</td>\n",
       "      <td>8.8</td>\n",
       "      <td>6</td>\n",
       "    </tr>\n",
       "    <tr>\n",
       "      <th>1</th>\n",
       "      <td>white</td>\n",
       "      <td>6.3</td>\n",
       "      <td>0.30</td>\n",
       "      <td>0.34</td>\n",
       "      <td>1.6</td>\n",
       "      <td>0.049</td>\n",
       "      <td>14.0</td>\n",
       "      <td>132.0</td>\n",
       "      <td>0.9940</td>\n",
       "      <td>3.30</td>\n",
       "      <td>0.49</td>\n",
       "      <td>9.5</td>\n",
       "      <td>6</td>\n",
       "    </tr>\n",
       "    <tr>\n",
       "      <th>2</th>\n",
       "      <td>white</td>\n",
       "      <td>8.1</td>\n",
       "      <td>0.28</td>\n",
       "      <td>0.40</td>\n",
       "      <td>6.9</td>\n",
       "      <td>0.050</td>\n",
       "      <td>30.0</td>\n",
       "      <td>97.0</td>\n",
       "      <td>0.9951</td>\n",
       "      <td>3.26</td>\n",
       "      <td>0.44</td>\n",
       "      <td>10.1</td>\n",
       "      <td>6</td>\n",
       "    </tr>\n",
       "    <tr>\n",
       "      <th>3</th>\n",
       "      <td>white</td>\n",
       "      <td>7.2</td>\n",
       "      <td>0.23</td>\n",
       "      <td>0.32</td>\n",
       "      <td>8.5</td>\n",
       "      <td>0.058</td>\n",
       "      <td>47.0</td>\n",
       "      <td>186.0</td>\n",
       "      <td>0.9956</td>\n",
       "      <td>3.19</td>\n",
       "      <td>0.40</td>\n",
       "      <td>9.9</td>\n",
       "      <td>6</td>\n",
       "    </tr>\n",
       "    <tr>\n",
       "      <th>6</th>\n",
       "      <td>white</td>\n",
       "      <td>6.2</td>\n",
       "      <td>0.32</td>\n",
       "      <td>0.16</td>\n",
       "      <td>7.0</td>\n",
       "      <td>0.045</td>\n",
       "      <td>30.0</td>\n",
       "      <td>136.0</td>\n",
       "      <td>0.9949</td>\n",
       "      <td>3.18</td>\n",
       "      <td>0.47</td>\n",
       "      <td>9.6</td>\n",
       "      <td>6</td>\n",
       "    </tr>\n",
       "  </tbody>\n",
       "</table>\n",
       "</div>"
      ],
      "text/plain": [
       "    type  fixed acidity  volatile acidity  citric acid  residual sugar  \\\n",
       "0  white            7.0              0.27         0.36            20.7   \n",
       "1  white            6.3              0.30         0.34             1.6   \n",
       "2  white            8.1              0.28         0.40             6.9   \n",
       "3  white            7.2              0.23         0.32             8.5   \n",
       "6  white            6.2              0.32         0.16             7.0   \n",
       "\n",
       "   chlorides  free sulfur dioxide  total sulfur dioxide  density    pH  \\\n",
       "0      0.045                 45.0                 170.0   1.0010  3.00   \n",
       "1      0.049                 14.0                 132.0   0.9940  3.30   \n",
       "2      0.050                 30.0                  97.0   0.9951  3.26   \n",
       "3      0.058                 47.0                 186.0   0.9956  3.19   \n",
       "6      0.045                 30.0                 136.0   0.9949  3.18   \n",
       "\n",
       "   sulphates  alcohol  quality  \n",
       "0       0.45      8.8        6  \n",
       "1       0.49      9.5        6  \n",
       "2       0.44     10.1        6  \n",
       "3       0.40      9.9        6  \n",
       "6       0.47      9.6        6  "
      ]
     },
     "execution_count": 28,
     "metadata": {},
     "output_type": "execute_result"
    }
   ],
   "source": [
    "df.head()"
   ]
  },
  {
   "cell_type": "code",
   "execution_count": 31,
   "id": "765967f7",
   "metadata": {},
   "outputs": [],
   "source": [
    "x = df.iloc[:,1:]\n",
    "y = df.iloc[:,0:1]"
   ]
  },
  {
   "cell_type": "code",
   "execution_count": 32,
   "id": "569f29de",
   "metadata": {},
   "outputs": [
    {
     "data": {
      "text/html": [
       "<div>\n",
       "<style scoped>\n",
       "    .dataframe tbody tr th:only-of-type {\n",
       "        vertical-align: middle;\n",
       "    }\n",
       "\n",
       "    .dataframe tbody tr th {\n",
       "        vertical-align: top;\n",
       "    }\n",
       "\n",
       "    .dataframe thead th {\n",
       "        text-align: right;\n",
       "    }\n",
       "</style>\n",
       "<table border=\"1\" class=\"dataframe\">\n",
       "  <thead>\n",
       "    <tr style=\"text-align: right;\">\n",
       "      <th></th>\n",
       "      <th>fixed acidity</th>\n",
       "      <th>volatile acidity</th>\n",
       "      <th>citric acid</th>\n",
       "      <th>residual sugar</th>\n",
       "      <th>chlorides</th>\n",
       "      <th>free sulfur dioxide</th>\n",
       "      <th>total sulfur dioxide</th>\n",
       "      <th>density</th>\n",
       "      <th>pH</th>\n",
       "      <th>sulphates</th>\n",
       "      <th>alcohol</th>\n",
       "      <th>quality</th>\n",
       "    </tr>\n",
       "  </thead>\n",
       "  <tbody>\n",
       "    <tr>\n",
       "      <th>0</th>\n",
       "      <td>7.0</td>\n",
       "      <td>0.27</td>\n",
       "      <td>0.36</td>\n",
       "      <td>20.7</td>\n",
       "      <td>0.045</td>\n",
       "      <td>45.0</td>\n",
       "      <td>170.0</td>\n",
       "      <td>1.001</td>\n",
       "      <td>3.0</td>\n",
       "      <td>0.45</td>\n",
       "      <td>8.8</td>\n",
       "      <td>6</td>\n",
       "    </tr>\n",
       "  </tbody>\n",
       "</table>\n",
       "</div>"
      ],
      "text/plain": [
       "   fixed acidity  volatile acidity  citric acid  residual sugar  chlorides  \\\n",
       "0            7.0              0.27         0.36            20.7      0.045   \n",
       "\n",
       "   free sulfur dioxide  total sulfur dioxide  density   pH  sulphates  \\\n",
       "0                 45.0                 170.0    1.001  3.0       0.45   \n",
       "\n",
       "   alcohol  quality  \n",
       "0      8.8        6  "
      ]
     },
     "execution_count": 32,
     "metadata": {},
     "output_type": "execute_result"
    }
   ],
   "source": [
    "x.head(1)"
   ]
  },
  {
   "cell_type": "code",
   "execution_count": 33,
   "id": "20c01115",
   "metadata": {},
   "outputs": [
    {
     "data": {
      "text/html": [
       "<div>\n",
       "<style scoped>\n",
       "    .dataframe tbody tr th:only-of-type {\n",
       "        vertical-align: middle;\n",
       "    }\n",
       "\n",
       "    .dataframe tbody tr th {\n",
       "        vertical-align: top;\n",
       "    }\n",
       "\n",
       "    .dataframe thead th {\n",
       "        text-align: right;\n",
       "    }\n",
       "</style>\n",
       "<table border=\"1\" class=\"dataframe\">\n",
       "  <thead>\n",
       "    <tr style=\"text-align: right;\">\n",
       "      <th></th>\n",
       "      <th>type</th>\n",
       "    </tr>\n",
       "  </thead>\n",
       "  <tbody>\n",
       "    <tr>\n",
       "      <th>0</th>\n",
       "      <td>white</td>\n",
       "    </tr>\n",
       "  </tbody>\n",
       "</table>\n",
       "</div>"
      ],
      "text/plain": [
       "    type\n",
       "0  white"
      ]
     },
     "execution_count": 33,
     "metadata": {},
     "output_type": "execute_result"
    }
   ],
   "source": [
    "y.head(1)"
   ]
  },
  {
   "cell_type": "code",
   "execution_count": 35,
   "id": "d68f88a5",
   "metadata": {},
   "outputs": [],
   "source": [
    "x_train,x_test,y_train,y_test = train_test_split(x,y,test_size = 20, random_state = 42)"
   ]
  },
  {
   "cell_type": "code",
   "execution_count": 39,
   "id": "9b5e5b8f",
   "metadata": {},
   "outputs": [
    {
     "data": {
      "text/html": [
       "<div>\n",
       "<style scoped>\n",
       "    .dataframe tbody tr th:only-of-type {\n",
       "        vertical-align: middle;\n",
       "    }\n",
       "\n",
       "    .dataframe tbody tr th {\n",
       "        vertical-align: top;\n",
       "    }\n",
       "\n",
       "    .dataframe thead th {\n",
       "        text-align: right;\n",
       "    }\n",
       "</style>\n",
       "<table border=\"1\" class=\"dataframe\">\n",
       "  <thead>\n",
       "    <tr style=\"text-align: right;\">\n",
       "      <th></th>\n",
       "      <th>fixed acidity</th>\n",
       "      <th>volatile acidity</th>\n",
       "      <th>citric acid</th>\n",
       "      <th>residual sugar</th>\n",
       "      <th>chlorides</th>\n",
       "      <th>free sulfur dioxide</th>\n",
       "      <th>total sulfur dioxide</th>\n",
       "      <th>density</th>\n",
       "      <th>pH</th>\n",
       "      <th>sulphates</th>\n",
       "      <th>alcohol</th>\n",
       "      <th>quality</th>\n",
       "    </tr>\n",
       "  </thead>\n",
       "  <tbody>\n",
       "    <tr>\n",
       "      <th>3967</th>\n",
       "      <td>6.3</td>\n",
       "      <td>0.270</td>\n",
       "      <td>0.51</td>\n",
       "      <td>7.6</td>\n",
       "      <td>0.049</td>\n",
       "      <td>35.0</td>\n",
       "      <td>200.0</td>\n",
       "      <td>0.99548</td>\n",
       "      <td>3.16</td>\n",
       "      <td>0.54</td>\n",
       "      <td>9.400000</td>\n",
       "      <td>4</td>\n",
       "    </tr>\n",
       "    <tr>\n",
       "      <th>5313</th>\n",
       "      <td>8.6</td>\n",
       "      <td>0.725</td>\n",
       "      <td>0.24</td>\n",
       "      <td>6.6</td>\n",
       "      <td>0.117</td>\n",
       "      <td>31.0</td>\n",
       "      <td>134.0</td>\n",
       "      <td>1.00140</td>\n",
       "      <td>3.32</td>\n",
       "      <td>1.07</td>\n",
       "      <td>9.300000</td>\n",
       "      <td>5</td>\n",
       "    </tr>\n",
       "    <tr>\n",
       "      <th>2446</th>\n",
       "      <td>6.6</td>\n",
       "      <td>0.320</td>\n",
       "      <td>0.33</td>\n",
       "      <td>2.5</td>\n",
       "      <td>0.052</td>\n",
       "      <td>40.0</td>\n",
       "      <td>210.0</td>\n",
       "      <td>0.99316</td>\n",
       "      <td>3.15</td>\n",
       "      <td>0.60</td>\n",
       "      <td>10.000000</td>\n",
       "      <td>5</td>\n",
       "    </tr>\n",
       "    <tr>\n",
       "      <th>4118</th>\n",
       "      <td>6.5</td>\n",
       "      <td>0.430</td>\n",
       "      <td>0.31</td>\n",
       "      <td>3.6</td>\n",
       "      <td>0.046</td>\n",
       "      <td>19.0</td>\n",
       "      <td>143.0</td>\n",
       "      <td>0.99022</td>\n",
       "      <td>3.15</td>\n",
       "      <td>0.34</td>\n",
       "      <td>12.000000</td>\n",
       "      <td>8</td>\n",
       "    </tr>\n",
       "    <tr>\n",
       "      <th>358</th>\n",
       "      <td>10.0</td>\n",
       "      <td>0.200</td>\n",
       "      <td>0.39</td>\n",
       "      <td>1.4</td>\n",
       "      <td>0.050</td>\n",
       "      <td>19.0</td>\n",
       "      <td>152.0</td>\n",
       "      <td>0.99400</td>\n",
       "      <td>3.00</td>\n",
       "      <td>0.42</td>\n",
       "      <td>10.400000</td>\n",
       "      <td>6</td>\n",
       "    </tr>\n",
       "    <tr>\n",
       "      <th>...</th>\n",
       "      <td>...</td>\n",
       "      <td>...</td>\n",
       "      <td>...</td>\n",
       "      <td>...</td>\n",
       "      <td>...</td>\n",
       "      <td>...</td>\n",
       "      <td>...</td>\n",
       "      <td>...</td>\n",
       "      <td>...</td>\n",
       "      <td>...</td>\n",
       "      <td>...</td>\n",
       "      <td>...</td>\n",
       "    </tr>\n",
       "    <tr>\n",
       "      <th>3830</th>\n",
       "      <td>4.8</td>\n",
       "      <td>0.260</td>\n",
       "      <td>0.23</td>\n",
       "      <td>10.6</td>\n",
       "      <td>0.034</td>\n",
       "      <td>23.0</td>\n",
       "      <td>111.0</td>\n",
       "      <td>0.99274</td>\n",
       "      <td>3.46</td>\n",
       "      <td>0.28</td>\n",
       "      <td>11.500000</td>\n",
       "      <td>7</td>\n",
       "    </tr>\n",
       "    <tr>\n",
       "      <th>4699</th>\n",
       "      <td>6.8</td>\n",
       "      <td>0.300</td>\n",
       "      <td>0.33</td>\n",
       "      <td>12.8</td>\n",
       "      <td>0.041</td>\n",
       "      <td>60.0</td>\n",
       "      <td>168.0</td>\n",
       "      <td>0.99659</td>\n",
       "      <td>3.10</td>\n",
       "      <td>0.56</td>\n",
       "      <td>9.800000</td>\n",
       "      <td>5</td>\n",
       "    </tr>\n",
       "    <tr>\n",
       "      <th>6373</th>\n",
       "      <td>5.3</td>\n",
       "      <td>0.470</td>\n",
       "      <td>0.11</td>\n",
       "      <td>2.2</td>\n",
       "      <td>0.048</td>\n",
       "      <td>16.0</td>\n",
       "      <td>89.0</td>\n",
       "      <td>0.99182</td>\n",
       "      <td>3.54</td>\n",
       "      <td>0.88</td>\n",
       "      <td>13.566667</td>\n",
       "      <td>7</td>\n",
       "    </tr>\n",
       "    <tr>\n",
       "      <th>6414</th>\n",
       "      <td>6.1</td>\n",
       "      <td>0.320</td>\n",
       "      <td>0.25</td>\n",
       "      <td>2.3</td>\n",
       "      <td>0.071</td>\n",
       "      <td>23.0</td>\n",
       "      <td>58.0</td>\n",
       "      <td>0.99633</td>\n",
       "      <td>3.42</td>\n",
       "      <td>0.97</td>\n",
       "      <td>10.600000</td>\n",
       "      <td>5</td>\n",
       "    </tr>\n",
       "    <tr>\n",
       "      <th>1038</th>\n",
       "      <td>7.1</td>\n",
       "      <td>0.150</td>\n",
       "      <td>0.34</td>\n",
       "      <td>5.3</td>\n",
       "      <td>0.034</td>\n",
       "      <td>33.0</td>\n",
       "      <td>104.0</td>\n",
       "      <td>0.99530</td>\n",
       "      <td>3.37</td>\n",
       "      <td>0.52</td>\n",
       "      <td>9.300000</td>\n",
       "      <td>7</td>\n",
       "    </tr>\n",
       "  </tbody>\n",
       "</table>\n",
       "<p>5275 rows × 12 columns</p>\n",
       "</div>"
      ],
      "text/plain": [
       "      fixed acidity  volatile acidity  citric acid  residual sugar  chlorides  \\\n",
       "3967            6.3             0.270         0.51             7.6      0.049   \n",
       "5313            8.6             0.725         0.24             6.6      0.117   \n",
       "2446            6.6             0.320         0.33             2.5      0.052   \n",
       "4118            6.5             0.430         0.31             3.6      0.046   \n",
       "358            10.0             0.200         0.39             1.4      0.050   \n",
       "...             ...               ...          ...             ...        ...   \n",
       "3830            4.8             0.260         0.23            10.6      0.034   \n",
       "4699            6.8             0.300         0.33            12.8      0.041   \n",
       "6373            5.3             0.470         0.11             2.2      0.048   \n",
       "6414            6.1             0.320         0.25             2.3      0.071   \n",
       "1038            7.1             0.150         0.34             5.3      0.034   \n",
       "\n",
       "      free sulfur dioxide  total sulfur dioxide  density    pH  sulphates  \\\n",
       "3967                 35.0                 200.0  0.99548  3.16       0.54   \n",
       "5313                 31.0                 134.0  1.00140  3.32       1.07   \n",
       "2446                 40.0                 210.0  0.99316  3.15       0.60   \n",
       "4118                 19.0                 143.0  0.99022  3.15       0.34   \n",
       "358                  19.0                 152.0  0.99400  3.00       0.42   \n",
       "...                   ...                   ...      ...   ...        ...   \n",
       "3830                 23.0                 111.0  0.99274  3.46       0.28   \n",
       "4699                 60.0                 168.0  0.99659  3.10       0.56   \n",
       "6373                 16.0                  89.0  0.99182  3.54       0.88   \n",
       "6414                 23.0                  58.0  0.99633  3.42       0.97   \n",
       "1038                 33.0                 104.0  0.99530  3.37       0.52   \n",
       "\n",
       "        alcohol  quality  \n",
       "3967   9.400000        4  \n",
       "5313   9.300000        5  \n",
       "2446  10.000000        5  \n",
       "4118  12.000000        8  \n",
       "358   10.400000        6  \n",
       "...         ...      ...  \n",
       "3830  11.500000        7  \n",
       "4699   9.800000        5  \n",
       "6373  13.566667        7  \n",
       "6414  10.600000        5  \n",
       "1038   9.300000        7  \n",
       "\n",
       "[5275 rows x 12 columns]"
      ]
     },
     "execution_count": 39,
     "metadata": {},
     "output_type": "execute_result"
    }
   ],
   "source": [
    "x_train"
   ]
  },
  {
   "cell_type": "code",
   "execution_count": 40,
   "id": "587b6e6b",
   "metadata": {},
   "outputs": [
    {
     "data": {
      "text/html": [
       "<div>\n",
       "<style scoped>\n",
       "    .dataframe tbody tr th:only-of-type {\n",
       "        vertical-align: middle;\n",
       "    }\n",
       "\n",
       "    .dataframe tbody tr th {\n",
       "        vertical-align: top;\n",
       "    }\n",
       "\n",
       "    .dataframe thead th {\n",
       "        text-align: right;\n",
       "    }\n",
       "</style>\n",
       "<table border=\"1\" class=\"dataframe\">\n",
       "  <thead>\n",
       "    <tr style=\"text-align: right;\">\n",
       "      <th></th>\n",
       "      <th>fixed acidity</th>\n",
       "      <th>volatile acidity</th>\n",
       "      <th>citric acid</th>\n",
       "      <th>residual sugar</th>\n",
       "      <th>chlorides</th>\n",
       "      <th>free sulfur dioxide</th>\n",
       "      <th>total sulfur dioxide</th>\n",
       "      <th>density</th>\n",
       "      <th>pH</th>\n",
       "      <th>sulphates</th>\n",
       "      <th>alcohol</th>\n",
       "      <th>quality</th>\n",
       "    </tr>\n",
       "  </thead>\n",
       "  <tbody>\n",
       "    <tr>\n",
       "      <th>516</th>\n",
       "      <td>6.8</td>\n",
       "      <td>0.18</td>\n",
       "      <td>0.37</td>\n",
       "      <td>1.6</td>\n",
       "      <td>0.055</td>\n",
       "      <td>47.0</td>\n",
       "      <td>154.0</td>\n",
       "      <td>0.99340</td>\n",
       "      <td>3.08</td>\n",
       "      <td>0.45</td>\n",
       "      <td>9.100000</td>\n",
       "      <td>5</td>\n",
       "    </tr>\n",
       "    <tr>\n",
       "      <th>1320</th>\n",
       "      <td>7.6</td>\n",
       "      <td>0.19</td>\n",
       "      <td>0.42</td>\n",
       "      <td>1.5</td>\n",
       "      <td>0.044</td>\n",
       "      <td>6.0</td>\n",
       "      <td>114.0</td>\n",
       "      <td>0.99140</td>\n",
       "      <td>3.04</td>\n",
       "      <td>0.74</td>\n",
       "      <td>12.800000</td>\n",
       "      <td>6</td>\n",
       "    </tr>\n",
       "    <tr>\n",
       "      <th>983</th>\n",
       "      <td>5.7</td>\n",
       "      <td>0.36</td>\n",
       "      <td>0.34</td>\n",
       "      <td>4.2</td>\n",
       "      <td>0.026</td>\n",
       "      <td>21.0</td>\n",
       "      <td>77.0</td>\n",
       "      <td>0.99070</td>\n",
       "      <td>3.41</td>\n",
       "      <td>0.45</td>\n",
       "      <td>11.900000</td>\n",
       "      <td>6</td>\n",
       "    </tr>\n",
       "    <tr>\n",
       "      <th>4380</th>\n",
       "      <td>5.7</td>\n",
       "      <td>0.31</td>\n",
       "      <td>0.29</td>\n",
       "      <td>7.3</td>\n",
       "      <td>0.050</td>\n",
       "      <td>33.0</td>\n",
       "      <td>143.0</td>\n",
       "      <td>0.99332</td>\n",
       "      <td>3.31</td>\n",
       "      <td>0.50</td>\n",
       "      <td>11.066667</td>\n",
       "      <td>6</td>\n",
       "    </tr>\n",
       "    <tr>\n",
       "      <th>6362</th>\n",
       "      <td>6.8</td>\n",
       "      <td>0.59</td>\n",
       "      <td>0.10</td>\n",
       "      <td>1.7</td>\n",
       "      <td>0.063</td>\n",
       "      <td>34.0</td>\n",
       "      <td>53.0</td>\n",
       "      <td>0.99580</td>\n",
       "      <td>3.41</td>\n",
       "      <td>0.67</td>\n",
       "      <td>9.700000</td>\n",
       "      <td>5</td>\n",
       "    </tr>\n",
       "    <tr>\n",
       "      <th>5722</th>\n",
       "      <td>7.1</td>\n",
       "      <td>0.48</td>\n",
       "      <td>0.28</td>\n",
       "      <td>2.8</td>\n",
       "      <td>0.068</td>\n",
       "      <td>6.0</td>\n",
       "      <td>16.0</td>\n",
       "      <td>0.99682</td>\n",
       "      <td>3.24</td>\n",
       "      <td>0.53</td>\n",
       "      <td>10.300000</td>\n",
       "      <td>5</td>\n",
       "    </tr>\n",
       "    <tr>\n",
       "      <th>1838</th>\n",
       "      <td>6.5</td>\n",
       "      <td>0.34</td>\n",
       "      <td>0.36</td>\n",
       "      <td>11.0</td>\n",
       "      <td>0.052</td>\n",
       "      <td>53.0</td>\n",
       "      <td>247.0</td>\n",
       "      <td>0.99840</td>\n",
       "      <td>3.44</td>\n",
       "      <td>0.55</td>\n",
       "      <td>9.300000</td>\n",
       "      <td>6</td>\n",
       "    </tr>\n",
       "    <tr>\n",
       "      <th>5069</th>\n",
       "      <td>8.0</td>\n",
       "      <td>0.42</td>\n",
       "      <td>0.17</td>\n",
       "      <td>2.0</td>\n",
       "      <td>0.073</td>\n",
       "      <td>6.0</td>\n",
       "      <td>18.0</td>\n",
       "      <td>0.99720</td>\n",
       "      <td>3.29</td>\n",
       "      <td>0.61</td>\n",
       "      <td>9.200000</td>\n",
       "      <td>6</td>\n",
       "    </tr>\n",
       "    <tr>\n",
       "      <th>2016</th>\n",
       "      <td>6.3</td>\n",
       "      <td>0.41</td>\n",
       "      <td>0.33</td>\n",
       "      <td>4.7</td>\n",
       "      <td>0.023</td>\n",
       "      <td>28.0</td>\n",
       "      <td>110.0</td>\n",
       "      <td>0.99100</td>\n",
       "      <td>3.30</td>\n",
       "      <td>0.38</td>\n",
       "      <td>12.500000</td>\n",
       "      <td>7</td>\n",
       "    </tr>\n",
       "    <tr>\n",
       "      <th>709</th>\n",
       "      <td>6.2</td>\n",
       "      <td>0.47</td>\n",
       "      <td>0.21</td>\n",
       "      <td>1.0</td>\n",
       "      <td>0.044</td>\n",
       "      <td>13.0</td>\n",
       "      <td>98.0</td>\n",
       "      <td>0.99345</td>\n",
       "      <td>3.14</td>\n",
       "      <td>0.46</td>\n",
       "      <td>9.200000</td>\n",
       "      <td>5</td>\n",
       "    </tr>\n",
       "    <tr>\n",
       "      <th>4221</th>\n",
       "      <td>6.3</td>\n",
       "      <td>0.28</td>\n",
       "      <td>0.34</td>\n",
       "      <td>8.1</td>\n",
       "      <td>0.038</td>\n",
       "      <td>44.0</td>\n",
       "      <td>129.0</td>\n",
       "      <td>0.99248</td>\n",
       "      <td>3.26</td>\n",
       "      <td>0.29</td>\n",
       "      <td>12.100000</td>\n",
       "      <td>6</td>\n",
       "    </tr>\n",
       "    <tr>\n",
       "      <th>2496</th>\n",
       "      <td>8.6</td>\n",
       "      <td>0.23</td>\n",
       "      <td>0.25</td>\n",
       "      <td>11.3</td>\n",
       "      <td>0.031</td>\n",
       "      <td>13.0</td>\n",
       "      <td>96.0</td>\n",
       "      <td>0.99645</td>\n",
       "      <td>3.11</td>\n",
       "      <td>0.40</td>\n",
       "      <td>10.800000</td>\n",
       "      <td>5</td>\n",
       "    </tr>\n",
       "    <tr>\n",
       "      <th>339</th>\n",
       "      <td>6.6</td>\n",
       "      <td>0.18</td>\n",
       "      <td>0.35</td>\n",
       "      <td>1.5</td>\n",
       "      <td>0.049</td>\n",
       "      <td>49.0</td>\n",
       "      <td>141.0</td>\n",
       "      <td>0.99340</td>\n",
       "      <td>3.43</td>\n",
       "      <td>0.85</td>\n",
       "      <td>10.200000</td>\n",
       "      <td>7</td>\n",
       "    </tr>\n",
       "    <tr>\n",
       "      <th>5153</th>\n",
       "      <td>8.0</td>\n",
       "      <td>0.57</td>\n",
       "      <td>0.23</td>\n",
       "      <td>3.2</td>\n",
       "      <td>0.073</td>\n",
       "      <td>17.0</td>\n",
       "      <td>119.0</td>\n",
       "      <td>0.99675</td>\n",
       "      <td>3.26</td>\n",
       "      <td>0.57</td>\n",
       "      <td>9.300000</td>\n",
       "      <td>5</td>\n",
       "    </tr>\n",
       "    <tr>\n",
       "      <th>2721</th>\n",
       "      <td>8.2</td>\n",
       "      <td>0.37</td>\n",
       "      <td>0.64</td>\n",
       "      <td>13.9</td>\n",
       "      <td>0.043</td>\n",
       "      <td>22.0</td>\n",
       "      <td>171.0</td>\n",
       "      <td>0.99873</td>\n",
       "      <td>2.99</td>\n",
       "      <td>0.80</td>\n",
       "      <td>9.300000</td>\n",
       "      <td>5</td>\n",
       "    </tr>\n",
       "    <tr>\n",
       "      <th>4440</th>\n",
       "      <td>6.7</td>\n",
       "      <td>0.34</td>\n",
       "      <td>0.31</td>\n",
       "      <td>16.4</td>\n",
       "      <td>0.051</td>\n",
       "      <td>20.0</td>\n",
       "      <td>146.0</td>\n",
       "      <td>0.99834</td>\n",
       "      <td>3.06</td>\n",
       "      <td>0.54</td>\n",
       "      <td>9.100000</td>\n",
       "      <td>5</td>\n",
       "    </tr>\n",
       "    <tr>\n",
       "      <th>1855</th>\n",
       "      <td>8.0</td>\n",
       "      <td>0.22</td>\n",
       "      <td>0.28</td>\n",
       "      <td>14.0</td>\n",
       "      <td>0.053</td>\n",
       "      <td>83.0</td>\n",
       "      <td>197.0</td>\n",
       "      <td>0.99810</td>\n",
       "      <td>3.14</td>\n",
       "      <td>0.45</td>\n",
       "      <td>9.800000</td>\n",
       "      <td>6</td>\n",
       "    </tr>\n",
       "    <tr>\n",
       "      <th>5604</th>\n",
       "      <td>7.0</td>\n",
       "      <td>0.78</td>\n",
       "      <td>0.08</td>\n",
       "      <td>2.0</td>\n",
       "      <td>0.093</td>\n",
       "      <td>10.0</td>\n",
       "      <td>19.0</td>\n",
       "      <td>0.99560</td>\n",
       "      <td>3.40</td>\n",
       "      <td>0.47</td>\n",
       "      <td>10.000000</td>\n",
       "      <td>5</td>\n",
       "    </tr>\n",
       "    <tr>\n",
       "      <th>12</th>\n",
       "      <td>7.9</td>\n",
       "      <td>0.18</td>\n",
       "      <td>0.37</td>\n",
       "      <td>1.2</td>\n",
       "      <td>0.040</td>\n",
       "      <td>16.0</td>\n",
       "      <td>75.0</td>\n",
       "      <td>0.99200</td>\n",
       "      <td>3.18</td>\n",
       "      <td>0.63</td>\n",
       "      <td>10.800000</td>\n",
       "      <td>5</td>\n",
       "    </tr>\n",
       "    <tr>\n",
       "      <th>2055</th>\n",
       "      <td>7.3</td>\n",
       "      <td>0.29</td>\n",
       "      <td>0.29</td>\n",
       "      <td>4.6</td>\n",
       "      <td>0.029</td>\n",
       "      <td>27.0</td>\n",
       "      <td>155.0</td>\n",
       "      <td>0.99310</td>\n",
       "      <td>3.07</td>\n",
       "      <td>0.26</td>\n",
       "      <td>10.600000</td>\n",
       "      <td>6</td>\n",
       "    </tr>\n",
       "  </tbody>\n",
       "</table>\n",
       "</div>"
      ],
      "text/plain": [
       "      fixed acidity  volatile acidity  citric acid  residual sugar  chlorides  \\\n",
       "516             6.8              0.18         0.37             1.6      0.055   \n",
       "1320            7.6              0.19         0.42             1.5      0.044   \n",
       "983             5.7              0.36         0.34             4.2      0.026   \n",
       "4380            5.7              0.31         0.29             7.3      0.050   \n",
       "6362            6.8              0.59         0.10             1.7      0.063   \n",
       "5722            7.1              0.48         0.28             2.8      0.068   \n",
       "1838            6.5              0.34         0.36            11.0      0.052   \n",
       "5069            8.0              0.42         0.17             2.0      0.073   \n",
       "2016            6.3              0.41         0.33             4.7      0.023   \n",
       "709             6.2              0.47         0.21             1.0      0.044   \n",
       "4221            6.3              0.28         0.34             8.1      0.038   \n",
       "2496            8.6              0.23         0.25            11.3      0.031   \n",
       "339             6.6              0.18         0.35             1.5      0.049   \n",
       "5153            8.0              0.57         0.23             3.2      0.073   \n",
       "2721            8.2              0.37         0.64            13.9      0.043   \n",
       "4440            6.7              0.34         0.31            16.4      0.051   \n",
       "1855            8.0              0.22         0.28            14.0      0.053   \n",
       "5604            7.0              0.78         0.08             2.0      0.093   \n",
       "12              7.9              0.18         0.37             1.2      0.040   \n",
       "2055            7.3              0.29         0.29             4.6      0.029   \n",
       "\n",
       "      free sulfur dioxide  total sulfur dioxide  density    pH  sulphates  \\\n",
       "516                  47.0                 154.0  0.99340  3.08       0.45   \n",
       "1320                  6.0                 114.0  0.99140  3.04       0.74   \n",
       "983                  21.0                  77.0  0.99070  3.41       0.45   \n",
       "4380                 33.0                 143.0  0.99332  3.31       0.50   \n",
       "6362                 34.0                  53.0  0.99580  3.41       0.67   \n",
       "5722                  6.0                  16.0  0.99682  3.24       0.53   \n",
       "1838                 53.0                 247.0  0.99840  3.44       0.55   \n",
       "5069                  6.0                  18.0  0.99720  3.29       0.61   \n",
       "2016                 28.0                 110.0  0.99100  3.30       0.38   \n",
       "709                  13.0                  98.0  0.99345  3.14       0.46   \n",
       "4221                 44.0                 129.0  0.99248  3.26       0.29   \n",
       "2496                 13.0                  96.0  0.99645  3.11       0.40   \n",
       "339                  49.0                 141.0  0.99340  3.43       0.85   \n",
       "5153                 17.0                 119.0  0.99675  3.26       0.57   \n",
       "2721                 22.0                 171.0  0.99873  2.99       0.80   \n",
       "4440                 20.0                 146.0  0.99834  3.06       0.54   \n",
       "1855                 83.0                 197.0  0.99810  3.14       0.45   \n",
       "5604                 10.0                  19.0  0.99560  3.40       0.47   \n",
       "12                   16.0                  75.0  0.99200  3.18       0.63   \n",
       "2055                 27.0                 155.0  0.99310  3.07       0.26   \n",
       "\n",
       "        alcohol  quality  \n",
       "516    9.100000        5  \n",
       "1320  12.800000        6  \n",
       "983   11.900000        6  \n",
       "4380  11.066667        6  \n",
       "6362   9.700000        5  \n",
       "5722  10.300000        5  \n",
       "1838   9.300000        6  \n",
       "5069   9.200000        6  \n",
       "2016  12.500000        7  \n",
       "709    9.200000        5  \n",
       "4221  12.100000        6  \n",
       "2496  10.800000        5  \n",
       "339   10.200000        7  \n",
       "5153   9.300000        5  \n",
       "2721   9.300000        5  \n",
       "4440   9.100000        5  \n",
       "1855   9.800000        6  \n",
       "5604  10.000000        5  \n",
       "12    10.800000        5  \n",
       "2055  10.600000        6  "
      ]
     },
     "execution_count": 40,
     "metadata": {},
     "output_type": "execute_result"
    }
   ],
   "source": [
    "x_test"
   ]
  },
  {
   "cell_type": "code",
   "execution_count": 36,
   "id": "86eca0d0",
   "metadata": {},
   "outputs": [
    {
     "data": {
      "text/plain": [
       "(5275, 12)"
      ]
     },
     "execution_count": 36,
     "metadata": {},
     "output_type": "execute_result"
    }
   ],
   "source": [
    "x_train.shape"
   ]
  },
  {
   "cell_type": "code",
   "execution_count": 37,
   "id": "1c83414d",
   "metadata": {},
   "outputs": [
    {
     "data": {
      "text/plain": [
       "(20, 12)"
      ]
     },
     "execution_count": 37,
     "metadata": {},
     "output_type": "execute_result"
    }
   ],
   "source": [
    "x_test.shape"
   ]
  },
  {
   "cell_type": "code",
   "execution_count": 41,
   "id": "108168d8",
   "metadata": {},
   "outputs": [],
   "source": [
    "#Standardize the features\n",
    "scaler = StandardScaler()\n",
    "x_train_scaled = scaler.fit_transform(x_train)\n",
    "x_test_scaled = scaler.transform(x_test)"
   ]
  },
  {
   "cell_type": "code",
   "execution_count": 42,
   "id": "bbfbde90",
   "metadata": {},
   "outputs": [
    {
     "name": "stderr",
     "output_type": "stream",
     "text": [
      "C:\\Users\\vishal\\anaconda3\\lib\\site-packages\\sklearn\\neighbors\\_classification.py:179: DataConversionWarning: A column-vector y was passed when a 1d array was expected. Please change the shape of y to (n_samples,), for example using ravel().\n",
      "  return self._fit(X, y)\n"
     ]
    }
   ],
   "source": [
    "knn_npca = KNeighborsClassifier()\n",
    "knn_npca.fit(x_train_scaled,y_train)\n",
    "y_pred_npca = knn_npca.predict(x_test_scaled)"
   ]
  },
  {
   "cell_type": "code",
   "execution_count": 43,
   "id": "f5c30f4e",
   "metadata": {},
   "outputs": [
    {
     "data": {
      "text/plain": [
       "1.0"
      ]
     },
     "execution_count": 43,
     "metadata": {},
     "output_type": "execute_result"
    }
   ],
   "source": [
    "accuracy_score(y_test,y_pred_npca)"
   ]
  },
  {
   "cell_type": "raw",
   "id": "012d95d3",
   "metadata": {},
   "source": [
    "#apply PCA on the standardized feature"
   ]
  },
  {
   "cell_type": "code",
   "execution_count": 47,
   "id": "b215fdc5",
   "metadata": {},
   "outputs": [],
   "source": [
    "pca = PCA(n_components=2)\n",
    "x_train_pca= pca.fit_transform(x_train_scaled)\n",
    "x_test_pca = pca.transform(x_test_scaled)"
   ]
  },
  {
   "cell_type": "code",
   "execution_count": 48,
   "id": "03e57eac",
   "metadata": {},
   "outputs": [
    {
     "name": "stderr",
     "output_type": "stream",
     "text": [
      "C:\\Users\\vishal\\anaconda3\\lib\\site-packages\\sklearn\\neighbors\\_classification.py:179: DataConversionWarning: A column-vector y was passed when a 1d array was expected. Please change the shape of y to (n_samples,), for example using ravel().\n",
      "  return self._fit(X, y)\n"
     ]
    },
    {
     "data": {
      "text/plain": [
       "KNeighborsClassifier()"
      ]
     },
     "execution_count": 48,
     "metadata": {},
     "output_type": "execute_result"
    }
   ],
   "source": [
    "#Train a K-Nearest Neighbors (KNN) classifier with PCA\n",
    "knn_pca = KNeighborsClassifier()\n",
    "knn_pca.fit(x_train_pca,y_train)"
   ]
  },
  {
   "cell_type": "code",
   "execution_count": 49,
   "id": "562cd5be",
   "metadata": {},
   "outputs": [
    {
     "name": "stdout",
     "output_type": "stream",
     "text": [
      "1.0\n"
     ]
    }
   ],
   "source": [
    "y_pred_pca = knn_pca.predict(x_test_pca)\n",
    "accuracy_pca = accuracy_score(y_test,y_pred_pca)\n",
    "print(accuracy_pca)"
   ]
  },
  {
   "cell_type": "code",
   "execution_count": 50,
   "id": "17763284",
   "metadata": {},
   "outputs": [],
   "source": [
    "pca = PCA(n_components=None)\n",
    "x1_train = pca.fit_transform(x_train_scaled)\n",
    "x1_test = pca.transform(x_test_scaled)"
   ]
  },
  {
   "cell_type": "code",
   "execution_count": 51,
   "id": "838fb5cc",
   "metadata": {},
   "outputs": [
    {
     "data": {
      "text/plain": [
       "array([3.01861509, 2.63114151, 1.67534428, 1.06869386, 0.8476384 ,\n",
       "       0.66379062, 0.54770802, 0.51097296, 0.47498953, 0.30279578,\n",
       "       0.22568465, 0.03490062])"
      ]
     },
     "execution_count": 51,
     "metadata": {},
     "output_type": "execute_result"
    }
   ],
   "source": [
    "pca.explained_variance_"
   ]
  },
  {
   "cell_type": "code",
   "execution_count": 52,
   "id": "7987a2c6",
   "metadata": {},
   "outputs": [
    {
     "data": {
      "text/plain": [
       "(12,)"
      ]
     },
     "execution_count": 52,
     "metadata": {},
     "output_type": "execute_result"
    }
   ],
   "source": [
    "pca.explained_variance_.shape"
   ]
  },
  {
   "cell_type": "code",
   "execution_count": 54,
   "id": "dfc0041c",
   "metadata": {},
   "outputs": [
    {
     "data": {
      "text/plain": [
       "array([[ 2.99764455e-01,  4.02975218e-01, -1.18452180e-01,\n",
       "        -2.47676980e-01,  3.49214365e-01, -4.01801417e-01,\n",
       "        -4.43045795e-01,  2.09107034e-01,  1.64596146e-01,\n",
       "         3.20185155e-01, -4.40435440e-02, -1.31972732e-01],\n",
       "       [ 2.07506902e-01,  3.61449016e-02,  1.76871050e-01,\n",
       "         3.90998634e-01,  2.06038039e-01,  2.01710123e-01,\n",
       "         2.42192774e-01,  5.16737568e-01, -1.87312173e-01,\n",
       "         6.30823187e-02, -4.88394205e-01, -2.91656138e-01],\n",
       "       [ 4.58118968e-01, -2.83074744e-01,  5.86888039e-01,\n",
       "        -7.45811968e-02,  5.57856086e-02, -9.12866246e-02,\n",
       "        -9.79453519e-02, -5.20561399e-02, -4.15910298e-01,\n",
       "         1.74515523e-01,  2.15077078e-01,  2.94197496e-01],\n",
       "       [-1.45227366e-01, -6.78989785e-02,  5.58482610e-02,\n",
       "         1.46251634e-01,  1.64113180e-01,  2.85200370e-01,\n",
       "         1.24480572e-01,  1.65512437e-01,  4.79415948e-01,\n",
       "         5.66232701e-01,  9.12648677e-02,  4.89734220e-01],\n",
       "       [ 2.09199958e-01,  1.78978949e-01, -1.67655066e-01,\n",
       "         5.24893697e-01, -4.53284110e-01, -2.32444906e-01,\n",
       "        -2.03202462e-01,  3.33611964e-01,  2.93246049e-02,\n",
       "        -2.15193774e-01,  1.70353857e-01,  3.63739286e-01],\n",
       "       [-2.13019364e-02,  4.49625426e-01, -3.46863572e-01,\n",
       "         1.21640625e-01,  3.58876847e-01,  2.82477823e-01,\n",
       "         1.11444160e-01, -1.44815441e-01, -5.51040083e-01,\n",
       "         4.57455212e-02,  2.42103241e-01,  2.36522714e-01],\n",
       "       [ 3.85722823e-01,  2.81295115e-01, -4.26536325e-02,\n",
       "        -2.14672398e-01, -5.50769238e-01,  3.25120772e-01,\n",
       "         2.41855816e-01, -1.25910451e-02,  4.43950139e-02,\n",
       "         3.33976859e-01,  2.16970233e-01, -3.09672101e-01],\n",
       "       [-6.49523712e-02, -4.01537843e-01, -4.87996148e-01,\n",
       "        -4.34578736e-02, -2.54338082e-01, -1.74975568e-01,\n",
       "        -8.27013018e-02, -9.23683085e-03, -3.73272883e-01,\n",
       "         4.79259354e-01, -3.41868816e-01,  7.99632931e-02],\n",
       "       [-3.90263004e-01,  3.53869881e-02,  2.05950494e-01,\n",
       "         4.47698807e-01, -1.36589383e-02, -3.19391616e-01,\n",
       "         1.19102490e-02, -8.95641072e-02, -1.16144574e-01,\n",
       "         3.67254960e-01,  3.94848928e-01, -4.34695437e-01],\n",
       "       [ 2.84556126e-01, -4.94403352e-01, -3.38371033e-01,\n",
       "         1.73920059e-01,  2.41573655e-01,  3.28432485e-01,\n",
       "        -3.05999453e-01,  7.52999474e-02,  1.15913564e-01,\n",
       "        -8.87087818e-02,  3.90358618e-01, -3.01053923e-01],\n",
       "       [-2.93337618e-01,  1.55535472e-01,  2.48669142e-01,\n",
       "         1.39234280e-02, -2.07350693e-01,  4.77648901e-01,\n",
       "        -7.08628618e-01, -2.16128853e-03, -1.34529758e-01,\n",
       "         6.01638273e-02, -1.78289038e-01, -3.04082258e-02],\n",
       "       [-3.45795487e-01, -8.44314634e-02, -2.80237263e-04,\n",
       "        -4.35505862e-01, -4.14739435e-02, -4.94502004e-03,\n",
       "         7.06226521e-02,  7.16200765e-01, -2.10163724e-01,\n",
       "        -8.01918025e-02,  3.36580672e-01,  8.34707586e-03]])"
      ]
     },
     "execution_count": 54,
     "metadata": {},
     "output_type": "execute_result"
    }
   ],
   "source": [
    "pca.components_"
   ]
  },
  {
   "cell_type": "code",
   "execution_count": 53,
   "id": "5c03675a",
   "metadata": {},
   "outputs": [
    {
     "data": {
      "text/plain": [
       "(12, 12)"
      ]
     },
     "execution_count": 53,
     "metadata": {},
     "output_type": "execute_result"
    }
   ],
   "source": [
    "pca.components_.shape"
   ]
  },
  {
   "cell_type": "code",
   "execution_count": 55,
   "id": "6b9ef4c7",
   "metadata": {},
   "outputs": [
    {
     "data": {
      "text/plain": [
       "array([0.25150357, 0.21922023, 0.13958556, 0.08904094, 0.07062314,\n",
       "       0.0553054 , 0.04563368, 0.04257301, 0.03957496, 0.0252282 ,\n",
       "       0.01880349, 0.00290783])"
      ]
     },
     "execution_count": 55,
     "metadata": {},
     "output_type": "execute_result"
    }
   ],
   "source": [
    "pca.explained_variance_ratio_"
   ]
  },
  {
   "cell_type": "code",
   "execution_count": 56,
   "id": "11f0742b",
   "metadata": {},
   "outputs": [
    {
     "data": {
      "text/plain": [
       "array([0.25150357, 0.4707238 , 0.61030935, 0.69935029, 0.76997343,\n",
       "       0.82527883, 0.87091252, 0.91348552, 0.95306048, 0.97828868,\n",
       "       0.99709217, 1.        ])"
      ]
     },
     "execution_count": 56,
     "metadata": {},
     "output_type": "execute_result"
    }
   ],
   "source": [
    "np.cumsum(pca.explained_variance_ratio_)"
   ]
  },
  {
   "cell_type": "code",
   "execution_count": 57,
   "id": "f0c9a7a2",
   "metadata": {},
   "outputs": [
    {
     "data": {
      "text/plain": [
       "[<matplotlib.lines.Line2D at 0x21269ffb130>]"
      ]
     },
     "execution_count": 57,
     "metadata": {},
     "output_type": "execute_result"
    },
    {
     "data": {
      "image/png": "[encoded data removed]",
      "text/plain": [
       "<Figure size 432x288 with 1 Axes>"
      ]
     },
     "metadata": {
      "needs_background": "light"
     },
     "output_type": "display_data"
    }
   ],
   "source": [
    "plt.plot(np.cumsum(pca.explained_variance_ratio_))"
   ]
  },
  {
   "cell_type": "code",
   "execution_count": null,
   "id": "3b2c8ac3",
   "metadata": {},
   "outputs": [],
   "source": []
  }
 ],
 "metadata": {
  "kernelspec": {
   "display_name": "Python 3",
   "language": "python",
   "name": "python3"
  },
  "language_info": {
   "codemirror_mode": {
    "name": "ipython",
    "version": 3
   },
   "file_extension": ".py",
   "mimetype": "text/x-python",
   "name": "python",
   "nbconvert_exporter": "python",
   "pygments_lexer": "ipython3",
   "version": "3.8.8"
  }
 },
 "nbformat": 4,
 "nbformat_minor": 5
}
