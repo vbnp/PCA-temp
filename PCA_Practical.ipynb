{
 "cells": [
  {
   "cell_type": "code",
   "execution_count": 1,
   "id": "b5737aea",
   "metadata": {},
   "outputs": [],
   "source": [
    "import pandas as pd"
   ]
  },
  {
   "cell_type": "code",
   "execution_count": 2,
   "id": "016b6b5c",
   "metadata": {},
   "outputs": [],
   "source": [
    "df = pd.read_csv(\"F:/PYTHAN/PYTHAN/iNeuron/EDA/PCA/Data_set/train.csv\")"
   ]
  },
  {
   "cell_type": "code",
   "execution_count": 3,
   "id": "0f1bc46f",
   "metadata": {},
   "outputs": [
    {
     "data": {
      "text/html": [
       "<div>\n",
       "<style scoped>\n",
       "    .dataframe tbody tr th:only-of-type {\n",
       "        vertical-align: middle;\n",
       "    }\n",
       "\n",
       "    .dataframe tbody tr th {\n",
       "        vertical-align: top;\n",
       "    }\n",
       "\n",
       "    .dataframe thead th {\n",
       "        text-align: right;\n",
       "    }\n",
       "</style>\n",
       "<table border=\"1\" class=\"dataframe\">\n",
       "  <thead>\n",
       "    <tr style=\"text-align: right;\">\n",
       "      <th></th>\n",
       "      <th>label</th>\n",
       "      <th>pixel0</th>\n",
       "      <th>pixel1</th>\n",
       "      <th>pixel2</th>\n",
       "      <th>pixel3</th>\n",
       "      <th>pixel4</th>\n",
       "      <th>pixel5</th>\n",
       "      <th>pixel6</th>\n",
       "      <th>pixel7</th>\n",
       "      <th>pixel8</th>\n",
       "      <th>...</th>\n",
       "      <th>pixel774</th>\n",
       "      <th>pixel775</th>\n",
       "      <th>pixel776</th>\n",
       "      <th>pixel777</th>\n",
       "      <th>pixel778</th>\n",
       "      <th>pixel779</th>\n",
       "      <th>pixel780</th>\n",
       "      <th>pixel781</th>\n",
       "      <th>pixel782</th>\n",
       "      <th>pixel783</th>\n",
       "    </tr>\n",
       "  </thead>\n",
       "  <tbody>\n",
       "    <tr>\n",
       "      <th>0</th>\n",
       "      <td>1</td>\n",
       "      <td>0</td>\n",
       "      <td>0</td>\n",
       "      <td>0</td>\n",
       "      <td>0</td>\n",
       "      <td>0</td>\n",
       "      <td>0</td>\n",
       "      <td>0</td>\n",
       "      <td>0</td>\n",
       "      <td>0</td>\n",
       "      <td>...</td>\n",
       "      <td>0</td>\n",
       "      <td>0</td>\n",
       "      <td>0</td>\n",
       "      <td>0</td>\n",
       "      <td>0</td>\n",
       "      <td>0</td>\n",
       "      <td>0</td>\n",
       "      <td>0</td>\n",
       "      <td>0</td>\n",
       "      <td>0</td>\n",
       "    </tr>\n",
       "    <tr>\n",
       "      <th>1</th>\n",
       "      <td>0</td>\n",
       "      <td>0</td>\n",
       "      <td>0</td>\n",
       "      <td>0</td>\n",
       "      <td>0</td>\n",
       "      <td>0</td>\n",
       "      <td>0</td>\n",
       "      <td>0</td>\n",
       "      <td>0</td>\n",
       "      <td>0</td>\n",
       "      <td>...</td>\n",
       "      <td>0</td>\n",
       "      <td>0</td>\n",
       "      <td>0</td>\n",
       "      <td>0</td>\n",
       "      <td>0</td>\n",
       "      <td>0</td>\n",
       "      <td>0</td>\n",
       "      <td>0</td>\n",
       "      <td>0</td>\n",
       "      <td>0</td>\n",
       "    </tr>\n",
       "    <tr>\n",
       "      <th>2</th>\n",
       "      <td>1</td>\n",
       "      <td>0</td>\n",
       "      <td>0</td>\n",
       "      <td>0</td>\n",
       "      <td>0</td>\n",
       "      <td>0</td>\n",
       "      <td>0</td>\n",
       "      <td>0</td>\n",
       "      <td>0</td>\n",
       "      <td>0</td>\n",
       "      <td>...</td>\n",
       "      <td>0</td>\n",
       "      <td>0</td>\n",
       "      <td>0</td>\n",
       "      <td>0</td>\n",
       "      <td>0</td>\n",
       "      <td>0</td>\n",
       "      <td>0</td>\n",
       "      <td>0</td>\n",
       "      <td>0</td>\n",
       "      <td>0</td>\n",
       "    </tr>\n",
       "    <tr>\n",
       "      <th>3</th>\n",
       "      <td>4</td>\n",
       "      <td>0</td>\n",
       "      <td>0</td>\n",
       "      <td>0</td>\n",
       "      <td>0</td>\n",
       "      <td>0</td>\n",
       "      <td>0</td>\n",
       "      <td>0</td>\n",
       "      <td>0</td>\n",
       "      <td>0</td>\n",
       "      <td>...</td>\n",
       "      <td>0</td>\n",
       "      <td>0</td>\n",
       "      <td>0</td>\n",
       "      <td>0</td>\n",
       "      <td>0</td>\n",
       "      <td>0</td>\n",
       "      <td>0</td>\n",
       "      <td>0</td>\n",
       "      <td>0</td>\n",
       "      <td>0</td>\n",
       "    </tr>\n",
       "    <tr>\n",
       "      <th>4</th>\n",
       "      <td>0</td>\n",
       "      <td>0</td>\n",
       "      <td>0</td>\n",
       "      <td>0</td>\n",
       "      <td>0</td>\n",
       "      <td>0</td>\n",
       "      <td>0</td>\n",
       "      <td>0</td>\n",
       "      <td>0</td>\n",
       "      <td>0</td>\n",
       "      <td>...</td>\n",
       "      <td>0</td>\n",
       "      <td>0</td>\n",
       "      <td>0</td>\n",
       "      <td>0</td>\n",
       "      <td>0</td>\n",
       "      <td>0</td>\n",
       "      <td>0</td>\n",
       "      <td>0</td>\n",
       "      <td>0</td>\n",
       "      <td>0</td>\n",
       "    </tr>\n",
       "  </tbody>\n",
       "</table>\n",
       "<p>5 rows × 785 columns</p>\n",
       "</div>"
      ],
      "text/plain": [
       "   label  pixel0  pixel1  pixel2  pixel3  pixel4  pixel5  pixel6  pixel7  \\\n",
       "0      1       0       0       0       0       0       0       0       0   \n",
       "1      0       0       0       0       0       0       0       0       0   \n",
       "2      1       0       0       0       0       0       0       0       0   \n",
       "3      4       0       0       0       0       0       0       0       0   \n",
       "4      0       0       0       0       0       0       0       0       0   \n",
       "\n",
       "   pixel8  ...  pixel774  pixel775  pixel776  pixel777  pixel778  pixel779  \\\n",
       "0       0  ...         0         0         0         0         0         0   \n",
       "1       0  ...         0         0         0         0         0         0   \n",
       "2       0  ...         0         0         0         0         0         0   \n",
       "3       0  ...         0         0         0         0         0         0   \n",
       "4       0  ...         0         0         0         0         0         0   \n",
       "\n",
       "   pixel780  pixel781  pixel782  pixel783  \n",
       "0         0         0         0         0  \n",
       "1         0         0         0         0  \n",
       "2         0         0         0         0  \n",
       "3         0         0         0         0  \n",
       "4         0         0         0         0  \n",
       "\n",
       "[5 rows x 785 columns]"
      ]
     },
     "execution_count": 3,
     "metadata": {},
     "output_type": "execute_result"
    }
   ],
   "source": [
    "df.head()"
   ]
  },
  {
   "cell_type": "code",
   "execution_count": 4,
   "id": "8625e3f6",
   "metadata": {},
   "outputs": [
    {
     "data": {
      "text/plain": [
       "(42000, 785)"
      ]
     },
     "execution_count": 4,
     "metadata": {},
     "output_type": "execute_result"
    }
   ],
   "source": [
    "df.shape"
   ]
  },
  {
   "cell_type": "code",
   "execution_count": 5,
   "id": "bd9f5790",
   "metadata": {},
   "outputs": [
    {
     "data": {
      "text/plain": [
       "0"
      ]
     },
     "execution_count": 5,
     "metadata": {},
     "output_type": "execute_result"
    }
   ],
   "source": [
    "df.duplicated().sum()"
   ]
  },
  {
   "cell_type": "code",
   "execution_count": 6,
   "id": "9ad47933",
   "metadata": {},
   "outputs": [
    {
     "data": {
      "text/plain": [
       "label       0\n",
       "pixel0      0\n",
       "pixel1      0\n",
       "pixel2      0\n",
       "pixel3      0\n",
       "           ..\n",
       "pixel779    0\n",
       "pixel780    0\n",
       "pixel781    0\n",
       "pixel782    0\n",
       "pixel783    0\n",
       "Length: 785, dtype: int64"
      ]
     },
     "execution_count": 6,
     "metadata": {},
     "output_type": "execute_result"
    }
   ],
   "source": [
    "df.isnull().sum()\n"
   ]
  },
  {
   "cell_type": "code",
   "execution_count": 7,
   "id": "a2f8aa93",
   "metadata": {},
   "outputs": [],
   "source": [
    "import matplotlib.pyplot as plt"
   ]
  },
  {
   "cell_type": "code",
   "execution_count": 8,
   "id": "d8b44259",
   "metadata": {},
   "outputs": [
    {
     "data": {
      "text/html": [
       "<div>\n",
       "<style scoped>\n",
       "    .dataframe tbody tr th:only-of-type {\n",
       "        vertical-align: middle;\n",
       "    }\n",
       "\n",
       "    .dataframe tbody tr th {\n",
       "        vertical-align: top;\n",
       "    }\n",
       "\n",
       "    .dataframe thead th {\n",
       "        text-align: right;\n",
       "    }\n",
       "</style>\n",
       "<table border=\"1\" class=\"dataframe\">\n",
       "  <thead>\n",
       "    <tr style=\"text-align: right;\">\n",
       "      <th></th>\n",
       "      <th>label</th>\n",
       "      <th>pixel0</th>\n",
       "      <th>pixel1</th>\n",
       "      <th>pixel2</th>\n",
       "      <th>pixel3</th>\n",
       "      <th>pixel4</th>\n",
       "      <th>pixel5</th>\n",
       "      <th>pixel6</th>\n",
       "      <th>pixel7</th>\n",
       "      <th>pixel8</th>\n",
       "      <th>...</th>\n",
       "      <th>pixel774</th>\n",
       "      <th>pixel775</th>\n",
       "      <th>pixel776</th>\n",
       "      <th>pixel777</th>\n",
       "      <th>pixel778</th>\n",
       "      <th>pixel779</th>\n",
       "      <th>pixel780</th>\n",
       "      <th>pixel781</th>\n",
       "      <th>pixel782</th>\n",
       "      <th>pixel783</th>\n",
       "    </tr>\n",
       "  </thead>\n",
       "  <tbody>\n",
       "    <tr>\n",
       "      <th>34996</th>\n",
       "      <td>9</td>\n",
       "      <td>0</td>\n",
       "      <td>0</td>\n",
       "      <td>0</td>\n",
       "      <td>0</td>\n",
       "      <td>0</td>\n",
       "      <td>0</td>\n",
       "      <td>0</td>\n",
       "      <td>0</td>\n",
       "      <td>0</td>\n",
       "      <td>...</td>\n",
       "      <td>0</td>\n",
       "      <td>0</td>\n",
       "      <td>0</td>\n",
       "      <td>0</td>\n",
       "      <td>0</td>\n",
       "      <td>0</td>\n",
       "      <td>0</td>\n",
       "      <td>0</td>\n",
       "      <td>0</td>\n",
       "      <td>0</td>\n",
       "    </tr>\n",
       "  </tbody>\n",
       "</table>\n",
       "<p>1 rows × 785 columns</p>\n",
       "</div>"
      ],
      "text/plain": [
       "       label  pixel0  pixel1  pixel2  pixel3  pixel4  pixel5  pixel6  pixel7  \\\n",
       "34996      9       0       0       0       0       0       0       0       0   \n",
       "\n",
       "       pixel8  ...  pixel774  pixel775  pixel776  pixel777  pixel778  \\\n",
       "34996       0  ...         0         0         0         0         0   \n",
       "\n",
       "       pixel779  pixel780  pixel781  pixel782  pixel783  \n",
       "34996         0         0         0         0         0  \n",
       "\n",
       "[1 rows x 785 columns]"
      ]
     },
     "execution_count": 8,
     "metadata": {},
     "output_type": "execute_result"
    }
   ],
   "source": [
    "df.sample()"
   ]
  },
  {
   "cell_type": "code",
   "execution_count": 9,
   "id": "b11754f6",
   "metadata": {
    "scrolled": true
   },
   "outputs": [
    {
     "data": {
      "text/plain": [
       "<matplotlib.image.AxesImage at 0x12c89977760>"
      ]
     },
     "execution_count": 9,
     "metadata": {},
     "output_type": "execute_result"
    },
    {
     "data": {
      "image/png": "[encoded data removed]",
      "text/plain": [
       "<Figure size 432x288 with 1 Axes>"
      ]
     },
     "metadata": {
      "needs_background": "light"
     },
     "output_type": "display_data"
    }
   ],
   "source": [
    "# Row no 23948 has image of 4 so we can see it by help of below code\n",
    "plt.imshow(df.iloc[23948:23949, 1:].values.reshape(28,28))"
   ]
  },
  {
   "cell_type": "code",
   "execution_count": 10,
   "id": "da48981a",
   "metadata": {},
   "outputs": [],
   "source": [
    "# we seprate out input and output column\n",
    "\n",
    "x = df.iloc[:,1:] # we separate out input column\n",
    "y = df.iloc[:,0:1]"
   ]
  },
  {
   "cell_type": "code",
   "execution_count": 11,
   "id": "e8af2d4b",
   "metadata": {},
   "outputs": [
    {
     "data": {
      "text/html": [
       "<div>\n",
       "<style scoped>\n",
       "    .dataframe tbody tr th:only-of-type {\n",
       "        vertical-align: middle;\n",
       "    }\n",
       "\n",
       "    .dataframe tbody tr th {\n",
       "        vertical-align: top;\n",
       "    }\n",
       "\n",
       "    .dataframe thead th {\n",
       "        text-align: right;\n",
       "    }\n",
       "</style>\n",
       "<table border=\"1\" class=\"dataframe\">\n",
       "  <thead>\n",
       "    <tr style=\"text-align: right;\">\n",
       "      <th></th>\n",
       "      <th>pixel0</th>\n",
       "      <th>pixel1</th>\n",
       "      <th>pixel2</th>\n",
       "      <th>pixel3</th>\n",
       "      <th>pixel4</th>\n",
       "      <th>pixel5</th>\n",
       "      <th>pixel6</th>\n",
       "      <th>pixel7</th>\n",
       "      <th>pixel8</th>\n",
       "      <th>pixel9</th>\n",
       "      <th>...</th>\n",
       "      <th>pixel774</th>\n",
       "      <th>pixel775</th>\n",
       "      <th>pixel776</th>\n",
       "      <th>pixel777</th>\n",
       "      <th>pixel778</th>\n",
       "      <th>pixel779</th>\n",
       "      <th>pixel780</th>\n",
       "      <th>pixel781</th>\n",
       "      <th>pixel782</th>\n",
       "      <th>pixel783</th>\n",
       "    </tr>\n",
       "  </thead>\n",
       "  <tbody>\n",
       "    <tr>\n",
       "      <th>0</th>\n",
       "      <td>0</td>\n",
       "      <td>0</td>\n",
       "      <td>0</td>\n",
       "      <td>0</td>\n",
       "      <td>0</td>\n",
       "      <td>0</td>\n",
       "      <td>0</td>\n",
       "      <td>0</td>\n",
       "      <td>0</td>\n",
       "      <td>0</td>\n",
       "      <td>...</td>\n",
       "      <td>0</td>\n",
       "      <td>0</td>\n",
       "      <td>0</td>\n",
       "      <td>0</td>\n",
       "      <td>0</td>\n",
       "      <td>0</td>\n",
       "      <td>0</td>\n",
       "      <td>0</td>\n",
       "      <td>0</td>\n",
       "      <td>0</td>\n",
       "    </tr>\n",
       "    <tr>\n",
       "      <th>1</th>\n",
       "      <td>0</td>\n",
       "      <td>0</td>\n",
       "      <td>0</td>\n",
       "      <td>0</td>\n",
       "      <td>0</td>\n",
       "      <td>0</td>\n",
       "      <td>0</td>\n",
       "      <td>0</td>\n",
       "      <td>0</td>\n",
       "      <td>0</td>\n",
       "      <td>...</td>\n",
       "      <td>0</td>\n",
       "      <td>0</td>\n",
       "      <td>0</td>\n",
       "      <td>0</td>\n",
       "      <td>0</td>\n",
       "      <td>0</td>\n",
       "      <td>0</td>\n",
       "      <td>0</td>\n",
       "      <td>0</td>\n",
       "      <td>0</td>\n",
       "    </tr>\n",
       "  </tbody>\n",
       "</table>\n",
       "<p>2 rows × 784 columns</p>\n",
       "</div>"
      ],
      "text/plain": [
       "   pixel0  pixel1  pixel2  pixel3  pixel4  pixel5  pixel6  pixel7  pixel8  \\\n",
       "0       0       0       0       0       0       0       0       0       0   \n",
       "1       0       0       0       0       0       0       0       0       0   \n",
       "\n",
       "   pixel9  ...  pixel774  pixel775  pixel776  pixel777  pixel778  pixel779  \\\n",
       "0       0  ...         0         0         0         0         0         0   \n",
       "1       0  ...         0         0         0         0         0         0   \n",
       "\n",
       "   pixel780  pixel781  pixel782  pixel783  \n",
       "0         0         0         0         0  \n",
       "1         0         0         0         0  \n",
       "\n",
       "[2 rows x 784 columns]"
      ]
     },
     "execution_count": 11,
     "metadata": {},
     "output_type": "execute_result"
    }
   ],
   "source": [
    "x.head(2)"
   ]
  },
  {
   "cell_type": "code",
   "execution_count": 12,
   "id": "53048896",
   "metadata": {},
   "outputs": [
    {
     "data": {
      "text/html": [
       "<div>\n",
       "<style scoped>\n",
       "    .dataframe tbody tr th:only-of-type {\n",
       "        vertical-align: middle;\n",
       "    }\n",
       "\n",
       "    .dataframe tbody tr th {\n",
       "        vertical-align: top;\n",
       "    }\n",
       "\n",
       "    .dataframe thead th {\n",
       "        text-align: right;\n",
       "    }\n",
       "</style>\n",
       "<table border=\"1\" class=\"dataframe\">\n",
       "  <thead>\n",
       "    <tr style=\"text-align: right;\">\n",
       "      <th></th>\n",
       "      <th>label</th>\n",
       "    </tr>\n",
       "  </thead>\n",
       "  <tbody>\n",
       "    <tr>\n",
       "      <th>0</th>\n",
       "      <td>1</td>\n",
       "    </tr>\n",
       "    <tr>\n",
       "      <th>1</th>\n",
       "      <td>0</td>\n",
       "    </tr>\n",
       "    <tr>\n",
       "      <th>2</th>\n",
       "      <td>1</td>\n",
       "    </tr>\n",
       "    <tr>\n",
       "      <th>3</th>\n",
       "      <td>4</td>\n",
       "    </tr>\n",
       "    <tr>\n",
       "      <th>4</th>\n",
       "      <td>0</td>\n",
       "    </tr>\n",
       "  </tbody>\n",
       "</table>\n",
       "</div>"
      ],
      "text/plain": [
       "   label\n",
       "0      1\n",
       "1      0\n",
       "2      1\n",
       "3      4\n",
       "4      0"
      ]
     },
     "execution_count": 12,
     "metadata": {},
     "output_type": "execute_result"
    }
   ],
   "source": [
    "y.head()"
   ]
  },
  {
   "cell_type": "code",
   "execution_count": 13,
   "id": "02d71ba0",
   "metadata": {},
   "outputs": [],
   "source": [
    "from sklearn.model_selection import train_test_split\n",
    "x_train,x_test,y_train,y_test = train_test_split(x,y,test_size = 0.2,random_state = 42)"
   ]
  },
  {
   "cell_type": "code",
   "execution_count": 14,
   "id": "74a841f3",
   "metadata": {},
   "outputs": [
    {
     "data": {
      "text/plain": [
       "(8400, 784)"
      ]
     },
     "execution_count": 14,
     "metadata": {},
     "output_type": "execute_result"
    }
   ],
   "source": [
    "x_test.shape"
   ]
  },
  {
   "cell_type": "code",
   "execution_count": 15,
   "id": "1e0e046c",
   "metadata": {},
   "outputs": [
    {
     "data": {
      "text/plain": [
       "(33600, 784)"
      ]
     },
     "execution_count": 15,
     "metadata": {},
     "output_type": "execute_result"
    }
   ],
   "source": [
    "x_train.shape"
   ]
  },
  {
   "cell_type": "code",
   "execution_count": 16,
   "id": "c65c8839",
   "metadata": {},
   "outputs": [
    {
     "data": {
      "text/plain": [
       "(8400, 1)"
      ]
     },
     "execution_count": 16,
     "metadata": {},
     "output_type": "execute_result"
    }
   ],
   "source": [
    "y_test.shape"
   ]
  },
  {
   "cell_type": "code",
   "execution_count": 17,
   "id": "49f04170",
   "metadata": {},
   "outputs": [
    {
     "data": {
      "text/plain": [
       "(33600, 1)"
      ]
     },
     "execution_count": 17,
     "metadata": {},
     "output_type": "execute_result"
    }
   ],
   "source": [
    "y_train.shape"
   ]
  },
  {
   "cell_type": "code",
   "execution_count": 18,
   "id": "3d583dd3",
   "metadata": {},
   "outputs": [],
   "source": [
    "from sklearn.neighbors import KNeighborsClassifier"
   ]
  },
  {
   "cell_type": "code",
   "execution_count": 19,
   "id": "27bebb27",
   "metadata": {},
   "outputs": [],
   "source": [
    "knn = KNeighborsClassifier()\n"
   ]
  },
  {
   "cell_type": "code",
   "execution_count": 20,
   "id": "af450a44",
   "metadata": {},
   "outputs": [
    {
     "name": "stderr",
     "output_type": "stream",
     "text": [
      "C:\\Users\\vishal\\anaconda3\\lib\\site-packages\\sklearn\\neighbors\\_classification.py:179: DataConversionWarning: A column-vector y was passed when a 1d array was expected. Please change the shape of y to (n_samples,), for example using ravel().\n",
      "  return self._fit(X, y)\n"
     ]
    },
    {
     "data": {
      "text/plain": [
       "KNeighborsClassifier()"
      ]
     },
     "execution_count": 20,
     "metadata": {},
     "output_type": "execute_result"
    }
   ],
   "source": [
    "knn.fit(x_train,y_train)"
   ]
  },
  {
   "cell_type": "code",
   "execution_count": 21,
   "id": "36885c3c",
   "metadata": {},
   "outputs": [],
   "source": [
    "y_pred = knn.predict(x_test)"
   ]
  },
  {
   "cell_type": "code",
   "execution_count": 22,
   "id": "38808b87",
   "metadata": {},
   "outputs": [
    {
     "data": {
      "text/plain": [
       "0.9648809523809524"
      ]
     },
     "execution_count": 22,
     "metadata": {},
     "output_type": "execute_result"
    }
   ],
   "source": [
    "from sklearn.metrics import accuracy_score\n",
    "accuracy_score(y_test,y_pred)"
   ]
  },
  {
   "cell_type": "code",
   "execution_count": 23,
   "id": "27a74aae",
   "metadata": {},
   "outputs": [],
   "source": [
    "# with the help of PCA\n",
    "# standerrize\n",
    "from sklearn.preprocessing import StandardScaler\n",
    "scaler = StandardScaler()"
   ]
  },
  {
   "cell_type": "code",
   "execution_count": 24,
   "id": "c1a858cf",
   "metadata": {},
   "outputs": [],
   "source": [
    "x1_train,x1_test,y1_train,y1_test = train_test_split(x,y,test_size = 0.2,random_state = 42)"
   ]
  },
  {
   "cell_type": "code",
   "execution_count": 25,
   "id": "47bb7ce8",
   "metadata": {},
   "outputs": [],
   "source": [
    "x1_train = scaler.fit_transform(x1_train)\n",
    "x1_test = scaler.transform(x1_test)"
   ]
  },
  {
   "cell_type": "code",
   "execution_count": 26,
   "id": "acf9749c",
   "metadata": {},
   "outputs": [],
   "source": [
    "#PCA\n",
    "from sklearn.decomposition import PCA\n",
    "pca = PCA(n_components=100)"
   ]
  },
  {
   "cell_type": "code",
   "execution_count": 27,
   "id": "59bdbb3d",
   "metadata": {},
   "outputs": [],
   "source": [
    "x1_train = pca.fit_transform(x1_train)\n",
    "x1_test = pca.transform(x1_test)"
   ]
  },
  {
   "cell_type": "code",
   "execution_count": 28,
   "id": "e2fed55b",
   "metadata": {},
   "outputs": [
    {
     "data": {
      "text/plain": [
       "(33600, 100)"
      ]
     },
     "execution_count": 28,
     "metadata": {},
     "output_type": "execute_result"
    }
   ],
   "source": [
    "x1_train.shape"
   ]
  },
  {
   "cell_type": "code",
   "execution_count": 29,
   "id": "5d576c93",
   "metadata": {},
   "outputs": [
    {
     "name": "stderr",
     "output_type": "stream",
     "text": [
      "C:\\Users\\vishal\\anaconda3\\lib\\site-packages\\sklearn\\neighbors\\_classification.py:179: DataConversionWarning: A column-vector y was passed when a 1d array was expected. Please change the shape of y to (n_samples,), for example using ravel().\n",
      "  return self._fit(X, y)\n"
     ]
    },
    {
     "data": {
      "text/plain": [
       "KNeighborsClassifier()"
      ]
     },
     "execution_count": 29,
     "metadata": {},
     "output_type": "execute_result"
    }
   ],
   "source": [
    "knn = KNeighborsClassifier()\n",
    "knn.fit(x1_train,y1_train)"
   ]
  },
  {
   "cell_type": "code",
   "execution_count": 30,
   "id": "f3d946a1",
   "metadata": {},
   "outputs": [],
   "source": [
    "y1_pred = knn.predict(x1_test)"
   ]
  },
  {
   "cell_type": "code",
   "execution_count": 31,
   "id": "b9ea77b9",
   "metadata": {},
   "outputs": [
    {
     "data": {
      "text/plain": [
       "array([8, 1, 9, ..., 3, 0, 9], dtype=int64)"
      ]
     },
     "execution_count": 31,
     "metadata": {},
     "output_type": "execute_result"
    }
   ],
   "source": [
    "y1_pred"
   ]
  },
  {
   "cell_type": "code",
   "execution_count": 32,
   "id": "2814d381",
   "metadata": {},
   "outputs": [
    {
     "data": {
      "text/plain": [
       "0.9545238095238096"
      ]
     },
     "execution_count": 32,
     "metadata": {},
     "output_type": "execute_result"
    }
   ],
   "source": [
    "accuracy_score(y1_test,y1_pred)"
   ]
  },
  {
   "cell_type": "code",
   "execution_count": 33,
   "id": "ba8aed15",
   "metadata": {},
   "outputs": [
    {
     "data": {
      "text/plain": [
       "(33600, 100)"
      ]
     },
     "execution_count": 33,
     "metadata": {},
     "output_type": "execute_result"
    }
   ],
   "source": [
    "x1_train.shape"
   ]
  },
  {
   "cell_type": "code",
   "execution_count": 34,
   "id": "788750c4",
   "metadata": {},
   "outputs": [],
   "source": [
    "pca = PCA(n_components=2)\n"
   ]
  },
  {
   "cell_type": "code",
   "execution_count": 35,
   "id": "60a40768",
   "metadata": {},
   "outputs": [],
   "source": [
    "x1_train = pca.fit_transform(x1_train)\n",
    "x1_test = pca.transform(x1_test)"
   ]
  },
  {
   "cell_type": "code",
   "execution_count": 36,
   "id": "f988d32a",
   "metadata": {},
   "outputs": [
    {
     "data": {
      "text/plain": [
       "array([[-2.71863221, -0.48973065],\n",
       "       [-0.67698646, -6.75385371],\n",
       "       [-3.03323803,  6.50993251],\n",
       "       ...,\n",
       "       [ 2.14882044,  0.78056874],\n",
       "       [ 1.05957121,  0.94779396],\n",
       "       [17.70258945,  1.96186285]])"
      ]
     },
     "execution_count": 36,
     "metadata": {},
     "output_type": "execute_result"
    }
   ],
   "source": [
    "x1_train"
   ]
  },
  {
   "cell_type": "code",
   "execution_count": 37,
   "id": "3dbfdf3d",
   "metadata": {},
   "outputs": [
    {
     "data": {
      "text/plain": [
       "array([40.67111198, 29.17023399])"
      ]
     },
     "execution_count": 37,
     "metadata": {},
     "output_type": "execute_result"
    }
   ],
   "source": [
    "pca.explained_variance_\n",
    "# Eigen values"
   ]
  },
  {
   "cell_type": "code",
   "execution_count": 38,
   "id": "58d4e658",
   "metadata": {},
   "outputs": [],
   "source": [
    "import plotly.express as px"
   ]
  },
  {
   "cell_type": "code",
   "execution_count": 39,
   "id": "9e3d5c4c",
   "metadata": {},
   "outputs": [
    {
     "data": {
      "text/plain": [
       "(2, 100)"
      ]
     },
     "execution_count": 39,
     "metadata": {},
     "output_type": "execute_result"
    }
   ],
   "source": [
    "pca.components_.shape\n",
    "#Eigen vectors"
   ]
  },
  {
   "cell_type": "code",
   "execution_count": 40,
   "id": "58845761",
   "metadata": {},
   "outputs": [
    {
     "data": {
      "text/plain": [
       "array([0.08054363, 0.0577677 ])"
      ]
     },
     "execution_count": 40,
     "metadata": {},
     "output_type": "execute_result"
    }
   ],
   "source": [
    "pca.explained_variance_ratio_\n",
    "# variance in percent "
   ]
  },
  {
   "cell_type": "code",
   "execution_count": 41,
   "id": "1bfeafe0",
   "metadata": {},
   "outputs": [],
   "source": [
    "pca = PCA(n_components=None)\n",
    "\n"
   ]
  },
  {
   "cell_type": "code",
   "execution_count": 45,
   "id": "4c550a55",
   "metadata": {},
   "outputs": [],
   "source": [
    "x1_train = pca.fit_transform(x_train)\n",
    "x1_test = pca.transform(x_test)"
   ]
  },
  {
   "cell_type": "code",
   "execution_count": 46,
   "id": "c2bab18d",
   "metadata": {},
   "outputs": [
    {
     "data": {
      "text/plain": [
       "(784,)"
      ]
     },
     "execution_count": 46,
     "metadata": {},
     "output_type": "execute_result"
    }
   ],
   "source": [
    "pca.explained_variance_.shape"
   ]
  },
  {
   "cell_type": "code",
   "execution_count": 47,
   "id": "a728a357",
   "metadata": {},
   "outputs": [
    {
     "data": {
      "text/plain": [
       "array([[-1.34432038e-19, -5.55111512e-17, -5.55111512e-17, ...,\n",
       "        -0.00000000e+00, -0.00000000e+00, -0.00000000e+00],\n",
       "       [ 2.48703186e-19, -0.00000000e+00, -0.00000000e+00, ...,\n",
       "        -0.00000000e+00, -0.00000000e+00, -0.00000000e+00],\n",
       "       [ 3.91572717e-19,  1.11022302e-16,  0.00000000e+00, ...,\n",
       "         0.00000000e+00,  0.00000000e+00,  0.00000000e+00],\n",
       "       ...,\n",
       "       [-0.00000000e+00, -3.33026041e-02, -9.45794328e-02, ...,\n",
       "        -0.00000000e+00, -0.00000000e+00, -0.00000000e+00],\n",
       "       [ 0.00000000e+00,  5.12433967e-02,  7.04277493e-02, ...,\n",
       "         0.00000000e+00,  0.00000000e+00,  0.00000000e+00],\n",
       "       [-0.00000000e+00,  1.40587715e-02,  3.09092053e-02, ...,\n",
       "        -0.00000000e+00, -0.00000000e+00, -0.00000000e+00]])"
      ]
     },
     "execution_count": 47,
     "metadata": {},
     "output_type": "execute_result"
    }
   ],
   "source": [
    "pca.components_"
   ]
  },
  {
   "cell_type": "code",
   "execution_count": 49,
   "id": "cd659cc0",
   "metadata": {},
   "outputs": [
    {
     "data": {
      "text/plain": [
       "(784, 784)"
      ]
     },
     "execution_count": 49,
     "metadata": {},
     "output_type": "execute_result"
    }
   ],
   "source": [
    "pca.components_.shape"
   ]
  },
  {
   "cell_type": "code",
   "execution_count": 54,
   "id": "5cfc3e09",
   "metadata": {},
   "outputs": [
    {
     "data": {
      "text/plain": [
       "array([9.77072202e-02, 7.12934512e-02, 6.17541312e-02, 5.38955140e-02,\n",
       "       4.89255299e-02, 4.33684433e-02, 3.27657386e-02, 2.89270270e-02,\n",
       "       2.77070300e-02, 2.32917149e-02, 2.09310651e-02, 2.04716403e-02,\n",
       "       1.70779469e-02, 1.68320607e-02, 1.58472125e-02, 1.48798267e-02,\n",
       "       1.32309818e-02, 1.28393670e-02, 1.18338358e-02, 1.15118647e-02,\n",
       "       1.07596902e-02, 1.02421519e-02, 9.66625789e-03, 9.17296381e-03,\n",
       "       8.84714420e-03, 8.33528008e-03, 8.15070612e-03, 7.75332066e-03,\n",
       "       7.41986542e-03, 6.93325236e-03, 6.60848230e-03, 6.33209492e-03,\n",
       "       6.03213006e-03, 5.88730096e-03, 5.61830060e-03, 5.39860932e-03,\n",
       "       5.07909781e-03, 4.87126968e-03, 4.71252924e-03, 4.64556419e-03,\n",
       "       4.52489910e-03, 4.44058540e-03, 4.16518263e-03, 3.95636411e-03,\n",
       "       3.83603691e-03, 3.73127577e-03, 3.60704723e-03, 3.48865016e-03,\n",
       "       3.34199674e-03, 3.18010732e-03, 3.14204894e-03, 3.07234334e-03,\n",
       "       2.92367086e-03, 2.86553852e-03, 2.79118328e-03, 2.69328579e-03,\n",
       "       2.64929240e-03, 2.56638552e-03, 2.52853275e-03, 2.45253332e-03,\n",
       "       2.40550495e-03, 2.39097230e-03, 2.26894076e-03, 2.21635678e-03,\n",
       "       2.14604800e-03, 2.05814237e-03, 2.01720085e-03, 1.96307705e-03,\n",
       "       1.93619901e-03, 1.88242322e-03, 1.85615163e-03, 1.81756786e-03,\n",
       "       1.75209355e-03, 1.72579576e-03, 1.65173800e-03, 1.63085620e-03,\n",
       "       1.59816302e-03, 1.53838498e-03, 1.46717845e-03, 1.41970688e-03,\n",
       "       1.40977306e-03, 1.39751907e-03, 1.38852428e-03, 1.35292427e-03,\n",
       "       1.31958406e-03, 1.30494087e-03, 1.29886329e-03, 1.23585893e-03,\n",
       "       1.21820910e-03, 1.20112872e-03, 1.15699022e-03, 1.13996376e-03,\n",
       "       1.12739129e-03, 1.10193182e-03, 1.08004641e-03, 1.07146462e-03,\n",
       "       1.03751455e-03, 1.03328955e-03, 1.00968195e-03, 1.00022338e-03,\n",
       "       9.70822327e-04, 9.50571073e-04, 9.37586258e-04, 9.15500196e-04,\n",
       "       9.09266709e-04, 8.87988046e-04, 8.69644601e-04, 8.48982168e-04,\n",
       "       8.33514196e-04, 8.11771266e-04, 7.86137796e-04, 7.78891012e-04,\n",
       "       7.72901441e-04, 7.63393295e-04, 7.58883538e-04, 7.47845153e-04,\n",
       "       7.32476761e-04, 7.28070852e-04, 7.14408767e-04, 7.02405879e-04,\n",
       "       6.94001423e-04, 6.84575578e-04, 6.77031988e-04, 6.63860047e-04,\n",
       "       6.50395540e-04, 6.49641814e-04, 6.35702397e-04, 6.30277297e-04,\n",
       "       6.16773661e-04, 6.05163481e-04, 5.99877444e-04, 5.90677518e-04,\n",
       "       5.87025485e-04, 5.82597685e-04, 5.75268419e-04, 5.69119847e-04,\n",
       "       5.64946505e-04, 5.55270273e-04, 5.34460448e-04, 5.27730528e-04,\n",
       "       5.21182621e-04, 5.12437427e-04, 5.10408846e-04, 4.99775943e-04,\n",
       "       4.92263340e-04, 4.89577761e-04, 4.82902228e-04, 4.77991333e-04,\n",
       "       4.72677493e-04, 4.67232438e-04, 4.62656361e-04, 4.61286961e-04,\n",
       "       4.53634708e-04, 4.52486365e-04, 4.49734978e-04, 4.41840444e-04,\n",
       "       4.40200501e-04, 4.27132181e-04, 4.20447552e-04, 4.16295573e-04,\n",
       "       4.13610906e-04, 4.03390369e-04, 3.97658251e-04, 3.95737284e-04,\n",
       "       3.93853493e-04, 3.91301350e-04, 3.80918421e-04, 3.76832450e-04,\n",
       "       3.75167826e-04, 3.72864850e-04, 3.66805156e-04, 3.63836493e-04,\n",
       "       3.60106930e-04, 3.58390677e-04, 3.55189484e-04, 3.53861207e-04,\n",
       "       3.45900849e-04, 3.43525230e-04, 3.40846236e-04, 3.39327970e-04,\n",
       "       3.35501633e-04, 3.30685101e-04, 3.26442673e-04, 3.24320788e-04,\n",
       "       3.20220186e-04, 3.19166741e-04, 3.17753345e-04, 3.16982025e-04,\n",
       "       3.10503435e-04, 3.09483360e-04, 3.05908369e-04, 3.03615884e-04,\n",
       "       2.98887644e-04, 2.97880931e-04, 2.95178636e-04, 2.94558007e-04,\n",
       "       2.92901739e-04, 2.88188806e-04, 2.85682808e-04, 2.83614857e-04,\n",
       "       2.80621023e-04, 2.76905010e-04, 2.75095971e-04, 2.69957590e-04,\n",
       "       2.68229464e-04, 2.67004584e-04, 2.63432141e-04, 2.62168351e-04,\n",
       "       2.61897096e-04, 2.58379860e-04, 2.57385974e-04, 2.56224977e-04,\n",
       "       2.54013101e-04, 2.53426905e-04, 2.50781546e-04, 2.47841306e-04,\n",
       "       2.46799002e-04, 2.44125011e-04, 2.42240617e-04, 2.40723726e-04,\n",
       "       2.39703551e-04, 2.39215154e-04, 2.37663452e-04, 2.34677271e-04,\n",
       "       2.31903146e-04, 2.30299566e-04, 2.28787682e-04, 2.27518332e-04,\n",
       "       2.25979972e-04, 2.25210162e-04, 2.20921904e-04, 2.19205273e-04,\n",
       "       2.16963055e-04, 2.16375499e-04, 2.14045827e-04, 2.12995147e-04,\n",
       "       2.10994520e-04, 2.09011099e-04, 2.07701548e-04, 2.04707499e-04,\n",
       "       2.03552895e-04, 2.02481673e-04, 2.01532626e-04, 1.99369670e-04,\n",
       "       1.97696520e-04, 1.97051320e-04, 1.95519131e-04, 1.93358215e-04,\n",
       "       1.92507751e-04, 1.91620163e-04, 1.90845116e-04, 1.87566220e-04,\n",
       "       1.85774799e-04, 1.84409070e-04, 1.83922788e-04, 1.83149219e-04,\n",
       "       1.82791731e-04, 1.81301947e-04, 1.81217943e-04, 1.79751886e-04,\n",
       "       1.77041637e-04, 1.75417322e-04, 1.74351060e-04, 1.73632467e-04,\n",
       "       1.72023793e-04, 1.71389120e-04, 1.70751084e-04, 1.69436074e-04,\n",
       "       1.68181833e-04, 1.66492985e-04, 1.65966209e-04, 1.64954004e-04,\n",
       "       1.63771222e-04, 1.63381726e-04, 1.62220889e-04, 1.61018331e-04,\n",
       "       1.59792300e-04, 1.59006164e-04, 1.58143183e-04, 1.57772185e-04,\n",
       "       1.55845455e-04, 1.54142548e-04, 1.53751140e-04, 1.51560457e-04,\n",
       "       1.50494792e-04, 1.49701584e-04, 1.48552509e-04, 1.47852396e-04,\n",
       "       1.46586389e-04, 1.45854059e-04, 1.43983329e-04, 1.42988381e-04,\n",
       "       1.42278905e-04, 1.41396756e-04, 1.40749581e-04, 1.40105889e-04,\n",
       "       1.39267064e-04, 1.37313065e-04, 1.35767842e-04, 1.35047839e-04,\n",
       "       1.34433107e-04, 1.33859553e-04, 1.32789410e-04, 1.32432582e-04,\n",
       "       1.31399089e-04, 1.29124412e-04, 1.28477197e-04, 1.28091240e-04,\n",
       "       1.27317535e-04, 1.26572758e-04, 1.25347759e-04, 1.24655498e-04,\n",
       "       1.23872287e-04, 1.22721004e-04, 1.21751918e-04, 1.21373561e-04,\n",
       "       1.20476810e-04, 1.20122329e-04, 1.19690422e-04, 1.18511634e-04,\n",
       "       1.16371209e-04, 1.15447169e-04, 1.15034925e-04, 1.14806879e-04,\n",
       "       1.12756032e-04, 1.12482972e-04, 1.11347365e-04, 1.10377846e-04,\n",
       "       1.09385321e-04, 1.08938519e-04, 1.08705205e-04, 1.07988378e-04,\n",
       "       1.07583492e-04, 1.07026294e-04, 1.06352245e-04, 1.05406467e-04,\n",
       "       1.04334462e-04, 1.03893872e-04, 1.02480909e-04, 1.02279032e-04,\n",
       "       1.01196158e-04, 9.94809370e-05, 9.93094349e-05, 9.90286146e-05,\n",
       "       9.82142958e-05, 9.70341351e-05, 9.60146996e-05, 9.57779206e-05,\n",
       "       9.43520845e-05, 9.34175186e-05, 9.27350781e-05, 9.22629084e-05,\n",
       "       9.11720287e-05, 9.04056025e-05, 9.02815686e-05, 8.98779853e-05,\n",
       "       8.93267320e-05, 8.82837580e-05, 8.79361690e-05, 8.73915841e-05,\n",
       "       8.67297299e-05, 8.52850992e-05, 8.49889803e-05, 8.46089992e-05,\n",
       "       8.43529009e-05, 8.32220509e-05, 8.26568500e-05, 8.18822578e-05,\n",
       "       8.15542248e-05, 8.02237944e-05, 7.95439639e-05, 7.84935258e-05,\n",
       "       7.83270971e-05, 7.74246448e-05, 7.66537977e-05, 7.56212483e-05,\n",
       "       7.52135071e-05, 7.44770194e-05, 7.40987944e-05, 7.29977222e-05,\n",
       "       7.27569677e-05, 7.23239518e-05, 7.20542470e-05, 7.15023406e-05,\n",
       "       7.09800380e-05, 6.92889419e-05, 6.88431847e-05, 6.77978870e-05,\n",
       "       6.69793725e-05, 6.67825827e-05, 6.63329290e-05, 6.49723870e-05,\n",
       "       6.47551241e-05, 6.34177335e-05, 6.27583917e-05, 6.20821508e-05,\n",
       "       6.07442479e-05, 6.00140054e-05, 5.97247821e-05, 5.87656835e-05,\n",
       "       5.84854909e-05, 5.79343384e-05, 5.72519308e-05, 5.68902127e-05,\n",
       "       5.59079861e-05, 5.54742019e-05, 5.47417882e-05, 5.42834710e-05,\n",
       "       5.40992009e-05, 5.38856084e-05, 5.30927394e-05, 5.26067855e-05,\n",
       "       5.18484988e-05, 5.14293151e-05, 5.08350282e-05, 5.01069559e-05,\n",
       "       4.94037763e-05, 4.92136519e-05, 4.89317936e-05, 4.80590408e-05,\n",
       "       4.70537799e-05, 4.64060113e-05, 4.61268500e-05, 4.56145429e-05,\n",
       "       4.52763240e-05, 4.43209400e-05, 4.34803687e-05, 4.22739336e-05,\n",
       "       4.21713417e-05, 4.16858570e-05, 4.14819654e-05, 4.07164906e-05,\n",
       "       4.02527375e-05, 4.01254030e-05, 3.97389426e-05, 3.81045772e-05,\n",
       "       3.76244894e-05, 3.73520539e-05, 3.71658523e-05, 3.69090279e-05,\n",
       "       3.62810880e-05, 3.58071185e-05, 3.52398757e-05, 3.49026894e-05,\n",
       "       3.43819776e-05, 3.42095301e-05, 3.35851703e-05, 3.32632542e-05,\n",
       "       3.28735508e-05, 3.24718815e-05, 3.20912135e-05, 3.14679489e-05,\n",
       "       3.10119826e-05, 3.04494073e-05, 2.97706326e-05, 2.94361724e-05,\n",
       "       2.88026043e-05, 2.84222204e-05, 2.83814514e-05, 2.81680814e-05,\n",
       "       2.77923861e-05, 2.76206143e-05, 2.67056327e-05, 2.65349324e-05,\n",
       "       2.56473732e-05, 2.54425403e-05, 2.53137795e-05, 2.50872090e-05,\n",
       "       2.45765870e-05, 2.44121336e-05, 2.39755825e-05, 2.38208003e-05,\n",
       "       2.35496592e-05, 2.32920305e-05, 2.28657091e-05, 2.24292100e-05,\n",
       "       2.18498847e-05, 2.15743978e-05, 2.13038533e-05, 2.07884446e-05,\n",
       "       2.06939946e-05, 2.03272407e-05, 2.00223544e-05, 1.99957954e-05,\n",
       "       1.96659979e-05, 1.93298164e-05, 1.90077795e-05, 1.88777925e-05,\n",
       "       1.83591328e-05, 1.77119994e-05, 1.75191218e-05, 1.73964775e-05,\n",
       "       1.73075936e-05, 1.71875861e-05, 1.60560685e-05, 1.57755045e-05,\n",
       "       1.54990948e-05, 1.53956868e-05, 1.52952323e-05, 1.50845629e-05,\n",
       "       1.48023557e-05, 1.47310986e-05, 1.43710006e-05, 1.40491423e-05,\n",
       "       1.39946622e-05, 1.39788542e-05, 1.37364126e-05, 1.35572426e-05,\n",
       "       1.33753208e-05, 1.32859952e-05, 1.27693782e-05, 1.25292597e-05,\n",
       "       1.24777881e-05, 1.21982348e-05, 1.18894007e-05, 1.16725019e-05,\n",
       "       1.16120736e-05, 1.14015106e-05, 1.13252735e-05, 1.12954912e-05,\n",
       "       1.10385864e-05, 1.09872502e-05, 1.05696477e-05, 1.04840043e-05,\n",
       "       1.03070167e-05, 1.01863211e-05, 9.81684733e-06, 9.54480780e-06,\n",
       "       9.26768770e-06, 9.19624999e-06, 9.14885081e-06, 9.02524329e-06,\n",
       "       9.01606647e-06, 8.53908630e-06, 8.33937868e-06, 8.13495367e-06,\n",
       "       8.05450459e-06, 7.88887478e-06, 7.71458260e-06, 7.56183255e-06,\n",
       "       7.51534604e-06, 7.38821089e-06, 7.28315502e-06, 7.21308061e-06,\n",
       "       7.03698753e-06, 6.72481012e-06, 6.69471135e-06, 6.64909144e-06,\n",
       "       6.59626592e-06, 6.20505045e-06, 6.05970646e-06, 5.88400114e-06,\n",
       "       5.58419228e-06, 5.50487173e-06, 5.45789240e-06, 5.36417918e-06,\n",
       "       5.11416029e-06, 5.03381798e-06, 4.98317201e-06, 4.87401293e-06,\n",
       "       4.82083428e-06, 4.63333423e-06, 4.61270315e-06, 4.57563081e-06,\n",
       "       4.42148177e-06, 4.36383362e-06, 4.26696088e-06, 4.10079222e-06,\n",
       "       4.04217633e-06, 3.97752938e-06, 3.89612424e-06, 3.76599947e-06,\n",
       "       3.75110195e-06, 3.52066767e-06, 3.47154401e-06, 3.23819316e-06,\n",
       "       3.17227920e-06, 3.12464366e-06, 3.00343540e-06, 2.99149597e-06,\n",
       "       2.86652446e-06, 2.69628658e-06, 2.65696743e-06, 2.63177449e-06,\n",
       "       2.57840469e-06, 2.57110091e-06, 2.55923831e-06, 2.51592067e-06,\n",
       "       2.47354441e-06, 2.24952775e-06, 2.22154468e-06, 2.16447331e-06,\n",
       "       2.14181399e-06, 2.09335334e-06, 2.06603117e-06, 2.00123910e-06,\n",
       "       1.90444533e-06, 1.86912715e-06, 1.79392037e-06, 1.68467759e-06,\n",
       "       1.63823298e-06, 1.63527675e-06, 1.62532982e-06, 1.59808822e-06,\n",
       "       1.59233658e-06, 1.46561627e-06, 1.43525149e-06, 1.35080544e-06,\n",
       "       1.32506728e-06, 1.27457090e-06, 1.17192321e-06, 1.16613144e-06,\n",
       "       1.13343078e-06, 1.12984946e-06, 1.12794232e-06, 1.09463640e-06,\n",
       "       1.07047113e-06, 1.02494681e-06, 1.01413777e-06, 9.52076487e-07,\n",
       "       9.42637828e-07, 8.53221827e-07, 8.51569266e-07, 8.36739041e-07,\n",
       "       8.29860303e-07, 7.75779177e-07, 7.61441263e-07, 7.32654009e-07,\n",
       "       7.28613027e-07, 6.82186787e-07, 6.53098212e-07, 6.15135515e-07,\n",
       "       6.00930245e-07, 5.83140760e-07, 5.52277299e-07, 5.27853396e-07,\n",
       "       5.10389943e-07, 4.99582499e-07, 4.32006803e-07, 4.25700852e-07,\n",
       "       4.24951312e-07, 3.87835530e-07, 3.80685251e-07, 3.61438099e-07,\n",
       "       3.47542684e-07, 3.34079690e-07, 2.93759158e-07, 2.88746041e-07,\n",
       "       2.85902373e-07, 2.75542552e-07, 2.74997903e-07, 2.64600061e-07,\n",
       "       2.56427491e-07, 2.54799210e-07, 2.40411497e-07, 2.34548920e-07,\n",
       "       2.32642395e-07, 2.19166822e-07, 2.07437524e-07, 2.01266672e-07,\n",
       "       1.88069625e-07, 1.31160533e-07, 1.03420231e-07, 1.03275535e-07,\n",
       "       1.02421150e-07, 9.10566881e-08, 8.96620164e-08, 8.33108208e-08,\n",
       "       8.06066601e-08, 6.66324874e-08, 6.06195804e-08, 5.75014393e-08,\n",
       "       5.32988837e-08, 4.23754065e-08, 3.90458955e-08, 3.89017918e-08,\n",
       "       3.61297967e-08, 2.92465431e-08, 2.45726074e-08, 2.44770736e-08,\n",
       "       2.41320076e-08, 2.10637860e-08, 1.89842999e-08, 1.64332192e-08,\n",
       "       1.50644130e-08, 1.41109978e-08, 1.37877674e-08, 9.10448829e-09,\n",
       "       6.83464189e-09, 3.17704957e-09, 2.35787648e-09, 2.27523934e-09,\n",
       "       9.88107726e-10, 1.70825130e-10, 1.32357423e-10, 1.02804131e-10,\n",
       "       2.05466292e-11, 2.11908591e-32, 2.04197628e-32, 1.69625528e-32,\n",
       "       1.31334434e-32, 1.20130146e-32, 9.18620617e-33, 8.58492796e-33,\n",
       "       7.05037187e-33, 6.03353172e-33, 5.39664733e-33, 4.48646303e-33,\n",
       "       3.76042175e-33, 3.35287106e-33, 2.81031642e-33, 2.70604886e-33,\n",
       "       2.27925791e-33, 1.90015918e-33, 1.79339681e-33, 1.39967513e-33,\n",
       "       1.00504053e-33, 9.80008629e-34, 8.33644897e-34, 5.37399164e-34,\n",
       "       4.49691000e-34, 3.89188800e-34, 3.87632101e-34, 3.87632101e-34,\n",
       "       3.87632101e-34, 3.87632101e-34, 3.87632101e-34, 3.87632101e-34,\n",
       "       3.87632101e-34, 3.87632101e-34, 3.87632101e-34, 3.87632101e-34,\n",
       "       3.87632101e-34, 3.87632101e-34, 3.87632101e-34, 3.87632101e-34,\n",
       "       3.87632101e-34, 3.87632101e-34, 3.87632101e-34, 3.87632101e-34,\n",
       "       3.87632101e-34, 3.87632101e-34, 3.87632101e-34, 3.87632101e-34,\n",
       "       3.87632101e-34, 3.87632101e-34, 3.87632101e-34, 3.87632101e-34,\n",
       "       3.87632101e-34, 3.87632101e-34, 3.87632101e-34, 3.87632101e-34,\n",
       "       3.87632101e-34, 3.87632101e-34, 3.87632101e-34, 3.87632101e-34,\n",
       "       3.87632101e-34, 3.87632101e-34, 3.87632101e-34, 3.87632101e-34,\n",
       "       3.87632101e-34, 3.87632101e-34, 3.87632101e-34, 3.87632101e-34,\n",
       "       3.87632101e-34, 3.87632101e-34, 3.87632101e-34, 3.87632101e-34,\n",
       "       3.87632101e-34, 3.87632101e-34, 3.87632101e-34, 3.87632101e-34,\n",
       "       3.87632101e-34, 3.87632101e-34, 3.87632101e-34, 3.87632101e-34,\n",
       "       3.87632101e-34, 3.87632101e-34, 3.87632101e-34, 3.80365822e-34,\n",
       "       1.26733485e-34, 4.13150408e-35, 4.10671504e-35, 8.62457436e-36])"
      ]
     },
     "execution_count": 54,
     "metadata": {},
     "output_type": "execute_result"
    }
   ],
   "source": [
    "pca.explained_variance_ratio_"
   ]
  },
  {
   "cell_type": "code",
   "execution_count": 55,
   "id": "a9d9b31c",
   "metadata": {},
   "outputs": [],
   "source": [
    "import numpy as np"
   ]
  },
  {
   "cell_type": "code",
   "execution_count": 56,
   "id": "46922498",
   "metadata": {},
   "outputs": [
    {
     "data": {
      "text/plain": [
       "array([0.09770722, 0.16900067, 0.2307548 , 0.28465032, 0.33357585,\n",
       "       0.37694429, 0.40971003, 0.43863706, 0.46634409, 0.4896358 ,\n",
       "       0.51056687, 0.53103851, 0.54811645, 0.56494851, 0.58079573,\n",
       "       0.59567555, 0.60890653, 0.6217459 , 0.63357974, 0.6450916 ,\n",
       "       0.65585129, 0.66609344, 0.6757597 , 0.68493267, 0.69377981,\n",
       "       0.70211509, 0.7102658 , 0.71801912, 0.72543898, 0.73237223,\n",
       "       0.73898072, 0.74531281, 0.75134494, 0.75723224, 0.76285054,\n",
       "       0.76824915, 0.77332825, 0.77819952, 0.78291205, 0.78755761,\n",
       "       0.79208251, 0.7965231 , 0.80068828, 0.80464464, 0.80848068,\n",
       "       0.81221196, 0.815819  , 0.81930765, 0.82264965, 0.82582976,\n",
       "       0.82897181, 0.83204415, 0.83496782, 0.83783336, 0.84062454,\n",
       "       0.84331783, 0.84596712, 0.84853351, 0.85106204, 0.85351457,\n",
       "       0.85592008, 0.85831105, 0.86057999, 0.86279635, 0.8649424 ,\n",
       "       0.86700054, 0.86901774, 0.87098082, 0.87291702, 0.87479944,\n",
       "       0.87665559, 0.87847316, 0.88022525, 0.88195105, 0.88360279,\n",
       "       0.88523364, 0.8868318 , 0.88837019, 0.88983737, 0.89125708,\n",
       "       0.89266685, 0.89406437, 0.89545289, 0.89680582, 0.8981254 ,\n",
       "       0.89943034, 0.9007292 , 0.90196506, 0.90318327, 0.9043844 ,\n",
       "       0.90554139, 0.90668135, 0.90780875, 0.90891068, 0.90999072,\n",
       "       0.91106219, 0.9120997 , 0.91313299, 0.91414268, 0.9151429 ,\n",
       "       0.91611372, 0.91706429, 0.91800188, 0.91891738, 0.91982664,\n",
       "       0.92071463, 0.92158428, 0.92243326, 0.92326677, 0.92407855,\n",
       "       0.92486468, 0.92564357, 0.92641648, 0.92717987, 0.92793875,\n",
       "       0.9286866 , 0.92941907, 0.93014715, 0.93086155, 0.93156396,\n",
       "       0.93225796, 0.93294254, 0.93361957, 0.93428343, 0.93493382,\n",
       "       0.93558347, 0.93621917, 0.93684945, 0.93746622, 0.93807138,\n",
       "       0.93867126, 0.93926194, 0.93984896, 0.94043156, 0.94100683,\n",
       "       0.94157595, 0.9421409 , 0.94269617, 0.94323063, 0.94375836,\n",
       "       0.94427954, 0.94479198, 0.94530239, 0.94580216, 0.94629443,\n",
       "       0.946784  , 0.94726691, 0.9477449 , 0.94821757, 0.94868481,\n",
       "       0.94914746, 0.94960875, 0.95006238, 0.95051487, 0.95096461,\n",
       "       0.95140645, 0.95184665, 0.95227378, 0.95269423, 0.95311052,\n",
       "       0.95352413, 0.95392752, 0.95432518, 0.95472092, 0.95511477,\n",
       "       0.95550607, 0.95588699, 0.95626382, 0.95663899, 0.95701186,\n",
       "       0.95737866, 0.9577425 , 0.95810261, 0.958461  , 0.95881619,\n",
       "       0.95917005, 0.95951595, 0.95985947, 0.96020032, 0.96053965,\n",
       "       0.96087515, 0.96120583, 0.96153228, 0.9618566 , 0.96217682,\n",
       "       0.96249598, 0.96281374, 0.96313072, 0.96344122, 0.96375071,\n",
       "       0.96405662, 0.96436023, 0.96465912, 0.964957  , 0.96525218,\n",
       "       0.96554674, 0.96583964, 0.96612783, 0.96641351, 0.96669712,\n",
       "       0.96697775, 0.96725465, 0.96752975, 0.9677997 , 0.96806793,\n",
       "       0.96833494, 0.96859837, 0.96886054, 0.96912244, 0.96938082,\n",
       "       0.9696382 , 0.96989443, 0.97014844, 0.97040187, 0.97065265,\n",
       "       0.97090049, 0.97114729, 0.97139141, 0.97163365, 0.97187438,\n",
       "       0.97211408, 0.9723533 , 0.97259096, 0.97282564, 0.97305754,\n",
       "       0.97328784, 0.97351663, 0.97374415, 0.97397013, 0.97419534,\n",
       "       0.97441626, 0.97463546, 0.97485243, 0.9750688 , 0.97528285,\n",
       "       0.97549584, 0.97570684, 0.97591585, 0.97612355, 0.97632826,\n",
       "       0.97653181, 0.97673429, 0.97693582, 0.97713519, 0.97733289,\n",
       "       0.97752994, 0.97772546, 0.97791882, 0.97811133, 0.97830295,\n",
       "       0.97849379, 0.97868136, 0.97886713, 0.97905154, 0.97923547,\n",
       "       0.97941861, 0.97960141, 0.97978271, 0.97996393, 0.98014368,\n",
       "       0.98032072, 0.98049614, 0.98067049, 0.98084412, 0.98101614,\n",
       "       0.98118753, 0.98135828, 0.98152772, 0.9816959 , 0.9818624 ,\n",
       "       0.98202836, 0.98219332, 0.98235709, 0.98252047, 0.98268269,\n",
       "       0.98284371, 0.9830035 , 0.98316251, 0.98332065, 0.98347842,\n",
       "       0.98363427, 0.98378841, 0.98394216, 0.98409372, 0.98424422,\n",
       "       0.98439392, 0.98454247, 0.98469032, 0.98483691, 0.98498276,\n",
       "       0.98512675, 0.98526973, 0.98541201, 0.98555341, 0.98569416,\n",
       "       0.98583427, 0.98597353, 0.98611085, 0.98624661, 0.98638166,\n",
       "       0.98651609, 0.98664995, 0.98678274, 0.98691518, 0.98704658,\n",
       "       0.9871757 , 0.98730418, 0.98743227, 0.98755959, 0.98768616,\n",
       "       0.98781151, 0.98793616, 0.98806003, 0.98818276, 0.98830451,\n",
       "       0.98842588, 0.98854636, 0.98866648, 0.98878617, 0.98890468,\n",
       "       0.98902105, 0.9891365 , 0.98925154, 0.98936634, 0.9894791 ,\n",
       "       0.98959158, 0.98970293, 0.98981331, 0.98992269, 0.99003163,\n",
       "       0.99014034, 0.99024832, 0.99035591, 0.99046293, 0.99056929,\n",
       "       0.99067469, 0.99077903, 0.99088292, 0.9909854 , 0.99108768,\n",
       "       0.99118888, 0.99128836, 0.99138767, 0.9914867 , 0.99158491,\n",
       "       0.99168194, 0.99177796, 0.99187374, 0.99196809, 0.99206151,\n",
       "       0.99215424, 0.9922465 , 0.99233768, 0.99242808, 0.99251836,\n",
       "       0.99260824, 0.99269757, 0.99278585, 0.99287379, 0.99296118,\n",
       "       0.99304791, 0.99313319, 0.99321818, 0.99330279, 0.99338715,\n",
       "       0.99347037, 0.99355302, 0.99363491, 0.99371646, 0.99379668,\n",
       "       0.99387623, 0.99395472, 0.99403305, 0.99411047, 0.99418713,\n",
       "       0.99426275, 0.99433796, 0.99441244, 0.99448654, 0.99455954,\n",
       "       0.99463229, 0.99470462, 0.99477667, 0.99484817, 0.99491915,\n",
       "       0.99498844, 0.99505729, 0.99512508, 0.99519206, 0.99525885,\n",
       "       0.99532518, 0.99539015, 0.99545491, 0.99551832, 0.99558108,\n",
       "       0.99564316, 0.99570391, 0.99576392, 0.99582365, 0.99588241,\n",
       "       0.9959409 , 0.99599883, 0.99605608, 0.99611297, 0.99616888,\n",
       "       0.99622436, 0.9962791 , 0.99633338, 0.99638748, 0.99644137,\n",
       "       0.99649446, 0.99654707, 0.99659892, 0.99665034, 0.99670118,\n",
       "       0.99675129, 0.99680069, 0.9968499 , 0.99689884, 0.99694689,\n",
       "       0.99699395, 0.99704035, 0.99708648, 0.9971321 , 0.99717737,\n",
       "       0.99722169, 0.99726517, 0.99730745, 0.99734962, 0.9973913 ,\n",
       "       0.99743279, 0.9974735 , 0.99751376, 0.99755388, 0.99759362,\n",
       "       0.99763172, 0.99766935, 0.9977067 , 0.99774387, 0.99778078,\n",
       "       0.99781706, 0.99785286, 0.9978881 , 0.99792301, 0.99795739,\n",
       "       0.9979916 , 0.99802518, 0.99805845, 0.99809132, 0.99812379,\n",
       "       0.99815588, 0.99818735, 0.99821836, 0.99824881, 0.99827858,\n",
       "       0.99830802, 0.99833682, 0.99836524, 0.99839363, 0.99842179,\n",
       "       0.99844959, 0.99847721, 0.99850391, 0.99853045, 0.99855609,\n",
       "       0.99858154, 0.99860685, 0.99863194, 0.99865652, 0.99868093,\n",
       "       0.9987049 , 0.99872872, 0.99875227, 0.99877557, 0.99879843,\n",
       "       0.99882086, 0.99884271, 0.99886428, 0.99888559, 0.99890638,\n",
       "       0.99892707, 0.9989474 , 0.99896742, 0.99898742, 0.99900708,\n",
       "       0.99902641, 0.99904542, 0.9990643 , 0.99908266, 0.99910037,\n",
       "       0.99911789, 0.99913528, 0.99915259, 0.99916978, 0.99918584,\n",
       "       0.99920161, 0.99921711, 0.99923251, 0.9992478 , 0.99926289,\n",
       "       0.99927769, 0.99929242, 0.99930679, 0.99932084, 0.99933483,\n",
       "       0.99934881, 0.99936255, 0.99937611, 0.99938948, 0.99940277,\n",
       "       0.99941554, 0.99942807, 0.99944054, 0.99945274, 0.99946463,\n",
       "       0.9994763 , 0.99948792, 0.99949932, 0.99951064, 0.99952194,\n",
       "       0.99953298, 0.99954396, 0.99955453, 0.99956502, 0.99957533,\n",
       "       0.99958551, 0.99959533, 0.99960487, 0.99961414, 0.99962334,\n",
       "       0.99963249, 0.99964151, 0.99965053, 0.99965907, 0.99966741,\n",
       "       0.99967554, 0.9996836 , 0.99969148, 0.9996992 , 0.99970676,\n",
       "       0.99971428, 0.99972166, 0.99972895, 0.99973616, 0.9997432 ,\n",
       "       0.99974992, 0.99975662, 0.99976327, 0.99976986, 0.99977607,\n",
       "       0.99978213, 0.99978801, 0.99979359, 0.9997991 , 0.99980456,\n",
       "       0.99980992, 0.99981504, 0.99982007, 0.99982505, 0.99982993,\n",
       "       0.99983475, 0.99983938, 0.99984399, 0.99984857, 0.99985299,\n",
       "       0.99985735, 0.99986162, 0.99986572, 0.99986976, 0.99987374,\n",
       "       0.99987764, 0.9998814 , 0.99988516, 0.99988868, 0.99989215,\n",
       "       0.99989539, 0.99989856, 0.99990168, 0.99990469, 0.99990768,\n",
       "       0.99991054, 0.99991324, 0.9999159 , 0.99991853, 0.99992111,\n",
       "       0.99992368, 0.99992624, 0.99992875, 0.99993123, 0.99993348,\n",
       "       0.9999357 , 0.99993786, 0.99994   , 0.9999421 , 0.99994416,\n",
       "       0.99994617, 0.99994807, 0.99994994, 0.99995173, 0.99995342,\n",
       "       0.99995506, 0.99995669, 0.99995832, 0.99995991, 0.99996151,\n",
       "       0.99996297, 0.99996441, 0.99996576, 0.99996708, 0.99996836,\n",
       "       0.99996953, 0.9999707 , 0.99997183, 0.99997296, 0.99997409,\n",
       "       0.99997518, 0.99997625, 0.99997728, 0.99997829, 0.99997924,\n",
       "       0.99998019, 0.99998104, 0.99998189, 0.99998273, 0.99998356,\n",
       "       0.99998433, 0.9999851 , 0.99998583, 0.99998656, 0.99998724,\n",
       "       0.99998789, 0.99998851, 0.99998911, 0.99998969, 0.99999024,\n",
       "       0.99999077, 0.99999128, 0.99999178, 0.99999221, 0.99999264,\n",
       "       0.99999306, 0.99999345, 0.99999383, 0.99999419, 0.99999454,\n",
       "       0.99999488, 0.99999517, 0.99999546, 0.99999574, 0.99999602,\n",
       "       0.99999629, 0.99999656, 0.99999682, 0.99999707, 0.99999731,\n",
       "       0.99999754, 0.99999778, 0.999998  , 0.9999982 , 0.99999841,\n",
       "       0.99999859, 0.99999872, 0.99999883, 0.99999893, 0.99999903,\n",
       "       0.99999912, 0.99999921, 0.9999993 , 0.99999938, 0.99999945,\n",
       "       0.99999951, 0.99999956, 0.99999962, 0.99999966, 0.9999997 ,\n",
       "       0.99999974, 0.99999977, 0.9999998 , 0.99999983, 0.99999985,\n",
       "       0.99999988, 0.9999999 , 0.99999992, 0.99999993, 0.99999995,\n",
       "       0.99999996, 0.99999997, 0.99999998, 0.99999999, 0.99999999,\n",
       "       1.        , 1.        , 1.        , 1.        , 1.        ,\n",
       "       1.        , 1.        , 1.        , 1.        , 1.        ,\n",
       "       1.        , 1.        , 1.        , 1.        , 1.        ,\n",
       "       1.        , 1.        , 1.        , 1.        , 1.        ,\n",
       "       1.        , 1.        , 1.        , 1.        , 1.        ,\n",
       "       1.        , 1.        , 1.        , 1.        , 1.        ,\n",
       "       1.        , 1.        , 1.        , 1.        , 1.        ,\n",
       "       1.        , 1.        , 1.        , 1.        , 1.        ,\n",
       "       1.        , 1.        , 1.        , 1.        , 1.        ,\n",
       "       1.        , 1.        , 1.        , 1.        , 1.        ,\n",
       "       1.        , 1.        , 1.        , 1.        , 1.        ,\n",
       "       1.        , 1.        , 1.        , 1.        , 1.        ,\n",
       "       1.        , 1.        , 1.        , 1.        , 1.        ,\n",
       "       1.        , 1.        , 1.        , 1.        , 1.        ,\n",
       "       1.        , 1.        , 1.        , 1.        , 1.        ,\n",
       "       1.        , 1.        , 1.        , 1.        , 1.        ,\n",
       "       1.        , 1.        , 1.        , 1.        , 1.        ,\n",
       "       1.        , 1.        , 1.        , 1.        , 1.        ,\n",
       "       1.        , 1.        , 1.        , 1.        ])"
      ]
     },
     "execution_count": 56,
     "metadata": {},
     "output_type": "execute_result"
    }
   ],
   "source": [
    "np.cumsum(pca.explained_variance_ratio_)"
   ]
  },
  {
   "cell_type": "code",
   "execution_count": 58,
   "id": "1250cf9f",
   "metadata": {},
   "outputs": [
    {
     "data": {
      "text/plain": [
       "[<matplotlib.lines.Line2D at 0x12cc18f1b20>]"
      ]
     },
     "execution_count": 58,
     "metadata": {},
     "output_type": "execute_result"
    },
    {
     "data": {
      "image/png": "[encoded data removed]",
      "text/plain": [
       "<Figure size 432x288 with 1 Axes>"
      ]
     },
     "metadata": {
      "needs_background": "light"
     },
     "output_type": "display_data"
    }
   ],
   "source": [
    "plt.plot(np.cumsum(pca.explained_variance_ratio_))\n",
    "#90% variance we should take"
   ]
  },
  {
   "cell_type": "code",
   "execution_count": null,
   "id": "05a98fac",
   "metadata": {},
   "outputs": [],
   "source": []
  }
 ],
 "metadata": {
  "kernelspec": {
   "display_name": "Python 3",
   "language": "python",
   "name": "python3"
  },
  "language_info": {
   "codemirror_mode": {
    "name": "ipython",
    "version": 3
   },
   "file_extension": ".py",
   "mimetype": "text/x-python",
   "name": "python",
   "nbconvert_exporter": "python",
   "pygments_lexer": "ipython3",
   "version": "3.8.8"
  }
 },
 "nbformat": 4,
 "nbformat_minor": 5
}
